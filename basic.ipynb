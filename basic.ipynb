{
 "cells": [
  {
   "cell_type": "code",
   "execution_count": 1,
   "id": "090973cf",
   "metadata": {},
   "outputs": [
    {
     "name": "stdout",
     "output_type": "stream",
     "text": [
      "krishna\n"
     ]
    }
   ],
   "source": [
    "print(\"krishna\")"
   ]
  },
  {
   "cell_type": "code",
   "execution_count": 1,
   "id": "94843f50",
   "metadata": {},
   "outputs": [
    {
     "data": {
      "text/plain": [
       "7"
      ]
     },
     "execution_count": 1,
     "metadata": {},
     "output_type": "execute_result"
    }
   ],
   "source": [
    "2+5"
   ]
  },
  {
   "cell_type": "code",
   "execution_count": 2,
   "id": "a1ec279c",
   "metadata": {},
   "outputs": [
    {
     "data": {
      "text/plain": [
       "16"
      ]
     },
     "execution_count": 2,
     "metadata": {},
     "output_type": "execute_result"
    }
   ],
   "source": [
    "8*2"
   ]
  },
  {
   "cell_type": "code",
   "execution_count": 3,
   "id": "956afcdd",
   "metadata": {},
   "outputs": [],
   "source": [
    "a = 10"
   ]
  },
  {
   "cell_type": "code",
   "execution_count": 4,
   "id": "c390d4f9",
   "metadata": {},
   "outputs": [
    {
     "data": {
      "text/plain": [
       "10"
      ]
     },
     "execution_count": 4,
     "metadata": {},
     "output_type": "execute_result"
    }
   ],
   "source": [
    "a"
   ]
  },
  {
   "cell_type": "code",
   "execution_count": 5,
   "id": "eec4cc20",
   "metadata": {},
   "outputs": [],
   "source": [
    "b = 20"
   ]
  },
  {
   "cell_type": "code",
   "execution_count": 6,
   "id": "5dc4bf05",
   "metadata": {},
   "outputs": [
    {
     "data": {
      "text/plain": [
       "20"
      ]
     },
     "execution_count": 6,
     "metadata": {},
     "output_type": "execute_result"
    }
   ],
   "source": [
    "b"
   ]
  },
  {
   "cell_type": "code",
   "execution_count": 7,
   "id": "673be031",
   "metadata": {},
   "outputs": [
    {
     "data": {
      "text/plain": [
       "30"
      ]
     },
     "execution_count": 7,
     "metadata": {},
     "output_type": "execute_result"
    }
   ],
   "source": [
    "a+b"
   ]
  },
  {
   "cell_type": "code",
   "execution_count": 8,
   "id": "cf4b8e73",
   "metadata": {},
   "outputs": [
    {
     "data": {
      "text/plain": [
       "int"
      ]
     },
     "execution_count": 8,
     "metadata": {},
     "output_type": "execute_result"
    }
   ],
   "source": [
    "type(a)"
   ]
  },
  {
   "cell_type": "code",
   "execution_count": 9,
   "id": "f7fb71f0",
   "metadata": {},
   "outputs": [
    {
     "data": {
      "text/plain": [
       "int"
      ]
     },
     "execution_count": 9,
     "metadata": {},
     "output_type": "execute_result"
    }
   ],
   "source": [
    "type(b)"
   ]
  },
  {
   "cell_type": "code",
   "execution_count": 10,
   "id": "a973a665",
   "metadata": {},
   "outputs": [],
   "source": [
    "c = 2.9"
   ]
  },
  {
   "cell_type": "code",
   "execution_count": 11,
   "id": "bef0a439",
   "metadata": {},
   "outputs": [
    {
     "data": {
      "text/plain": [
       "2.9"
      ]
     },
     "execution_count": 11,
     "metadata": {},
     "output_type": "execute_result"
    }
   ],
   "source": [
    "c"
   ]
  },
  {
   "cell_type": "code",
   "execution_count": 12,
   "id": "6331f4ff",
   "metadata": {},
   "outputs": [
    {
     "data": {
      "text/plain": [
       "float"
      ]
     },
     "execution_count": 12,
     "metadata": {},
     "output_type": "execute_result"
    }
   ],
   "source": [
    "type(c)"
   ]
  },
  {
   "cell_type": "code",
   "execution_count": 13,
   "id": "44337a16",
   "metadata": {},
   "outputs": [],
   "source": [
    "d = \"krishna\""
   ]
  },
  {
   "cell_type": "code",
   "execution_count": 14,
   "id": "8efdc7d5",
   "metadata": {},
   "outputs": [
    {
     "data": {
      "text/plain": [
       "str"
      ]
     },
     "execution_count": 14,
     "metadata": {},
     "output_type": "execute_result"
    }
   ],
   "source": [
    "type(d)"
   ]
  },
  {
   "cell_type": "code",
   "execution_count": 15,
   "id": "d809fc58",
   "metadata": {},
   "outputs": [
    {
     "ename": "NameError",
     "evalue": "name 'true' is not defined",
     "output_type": "error",
     "traceback": [
      "\u001b[1;31m---------------------------------------------------------------------------\u001b[0m",
      "\u001b[1;31mNameError\u001b[0m                                 Traceback (most recent call last)",
      "Cell \u001b[1;32mIn [15], line 1\u001b[0m\n\u001b[1;32m----> 1\u001b[0m n \u001b[38;5;241m=\u001b[39m \u001b[43mtrue\u001b[49m\n",
      "\u001b[1;31mNameError\u001b[0m: name 'true' is not defined"
     ]
    }
   ],
   "source": [
    " n = true"
   ]
  },
  {
   "cell_type": "code",
   "execution_count": 16,
   "id": "cfcb5487",
   "metadata": {},
   "outputs": [],
   "source": [
    "n = True"
   ]
  },
  {
   "cell_type": "code",
   "execution_count": 17,
   "id": "a7ed64b0",
   "metadata": {},
   "outputs": [
    {
     "data": {
      "text/plain": [
       "bool"
      ]
     },
     "execution_count": 17,
     "metadata": {},
     "output_type": "execute_result"
    }
   ],
   "source": [
    "type(n)"
   ]
  },
  {
   "cell_type": "code",
   "execution_count": 18,
   "id": "ba76d446",
   "metadata": {},
   "outputs": [],
   "source": [
    "m = False"
   ]
  },
  {
   "cell_type": "code",
   "execution_count": 19,
   "id": "c7b477a4",
   "metadata": {},
   "outputs": [
    {
     "data": {
      "text/plain": [
       "bool"
      ]
     },
     "execution_count": 19,
     "metadata": {},
     "output_type": "execute_result"
    }
   ],
   "source": [
    "type(m)"
   ]
  },
  {
   "cell_type": "code",
   "execution_count": 20,
   "id": "581a5437",
   "metadata": {},
   "outputs": [
    {
     "data": {
      "text/plain": [
       "1"
      ]
     },
     "execution_count": 20,
     "metadata": {},
     "output_type": "execute_result"
    }
   ],
   "source": [
    "n+m"
   ]
  },
  {
   "cell_type": "code",
   "execution_count": 21,
   "id": "93740121",
   "metadata": {},
   "outputs": [
    {
     "ename": "ZeroDivisionError",
     "evalue": "division by zero",
     "output_type": "error",
     "traceback": [
      "\u001b[1;31m---------------------------------------------------------------------------\u001b[0m",
      "\u001b[1;31mZeroDivisionError\u001b[0m                         Traceback (most recent call last)",
      "Cell \u001b[1;32mIn [21], line 1\u001b[0m\n\u001b[1;32m----> 1\u001b[0m \u001b[38;5;28;43;01mTrue\u001b[39;49;00m\u001b[43m \u001b[49m\u001b[38;5;241;43m/\u001b[39;49m\u001b[43m \u001b[49m\u001b[38;5;28;43;01mFalse\u001b[39;49;00m\n",
      "\u001b[1;31mZeroDivisionError\u001b[0m: division by zero"
     ]
    }
   ],
   "source": [
    "True / False"
   ]
  },
  {
   "cell_type": "code",
   "execution_count": 22,
   "id": "e9f4ec7b",
   "metadata": {},
   "outputs": [],
   "source": [
    "v = 5 + 8j"
   ]
  },
  {
   "cell_type": "code",
   "execution_count": 23,
   "id": "d941fac6",
   "metadata": {},
   "outputs": [
    {
     "data": {
      "text/plain": [
       "complex"
      ]
     },
     "execution_count": 23,
     "metadata": {},
     "output_type": "execute_result"
    }
   ],
   "source": [
    "type(v)"
   ]
  },
  {
   "cell_type": "code",
   "execution_count": 24,
   "id": "42d94dd4",
   "metadata": {},
   "outputs": [
    {
     "data": {
      "text/plain": [
       "5.0"
      ]
     },
     "execution_count": 24,
     "metadata": {},
     "output_type": "execute_result"
    }
   ],
   "source": [
    " v.real"
   ]
  },
  {
   "cell_type": "code",
   "execution_count": 25,
   "id": "363a6842",
   "metadata": {},
   "outputs": [
    {
     "data": {
      "text/plain": [
       "8.0"
      ]
     },
     "execution_count": 25,
     "metadata": {},
     "output_type": "execute_result"
    }
   ],
   "source": [
    "v.imag"
   ]
  },
  {
   "cell_type": "code",
   "execution_count": 26,
   "id": "2be7742c",
   "metadata": {},
   "outputs": [
    {
     "data": {
      "text/plain": [
       "<function complex.conjugate()>"
      ]
     },
     "execution_count": 26,
     "metadata": {},
     "output_type": "execute_result"
    }
   ],
   "source": [
    "v.conjugate"
   ]
  },
  {
   "cell_type": "code",
   "execution_count": 27,
   "id": "80608a5a",
   "metadata": {},
   "outputs": [
    {
     "data": {
      "text/plain": [
       "(5+8j)"
      ]
     },
     "execution_count": 27,
     "metadata": {},
     "output_type": "execute_result"
    }
   ],
   "source": [
    "v"
   ]
  },
  {
   "cell_type": "code",
   "execution_count": 28,
   "id": "b1054496",
   "metadata": {},
   "outputs": [
    {
     "name": "stdout",
     "output_type": "stream",
     "text": [
      "let's start\n"
     ]
    }
   ],
   "source": [
    " print(\"let's start\")"
   ]
  },
  {
   "cell_type": "code",
   "execution_count": 29,
   "id": "e6a93022",
   "metadata": {},
   "outputs": [],
   "source": [
    "s = \"pwskills\""
   ]
  },
  {
   "cell_type": "code",
   "execution_count": 30,
   "id": "1198c244",
   "metadata": {},
   "outputs": [
    {
     "data": {
      "text/plain": [
       "str"
      ]
     },
     "execution_count": 30,
     "metadata": {},
     "output_type": "execute_result"
    }
   ],
   "source": [
    "type(s)"
   ]
  },
  {
   "cell_type": "code",
   "execution_count": 31,
   "id": "fe5c5893",
   "metadata": {},
   "outputs": [
    {
     "name": "stdout",
     "output_type": "stream",
     "text": [
      "pwskills 0\n"
     ]
    }
   ],
   "source": [
    "print(s,0)"
   ]
  },
  {
   "cell_type": "code",
   "execution_count": 32,
   "id": "9e207191",
   "metadata": {},
   "outputs": [
    {
     "data": {
      "text/plain": [
       "'p'"
      ]
     },
     "execution_count": 32,
     "metadata": {},
     "output_type": "execute_result"
    }
   ],
   "source": [
    "s[0]"
   ]
  },
  {
   "cell_type": "code",
   "execution_count": 33,
   "id": "6d42b1a0",
   "metadata": {},
   "outputs": [
    {
     "data": {
      "text/plain": [
       "'skills'"
      ]
     },
     "execution_count": 33,
     "metadata": {},
     "output_type": "execute_result"
    }
   ],
   "source": [
    "s[2:]"
   ]
  },
  {
   "cell_type": "code",
   "execution_count": 34,
   "id": "1d59f196",
   "metadata": {},
   "outputs": [
    {
     "data": {
      "text/plain": [
       "'s'"
      ]
     },
     "execution_count": 34,
     "metadata": {},
     "output_type": "execute_result"
    }
   ],
   "source": [
    "  s[-1]"
   ]
  },
  {
   "cell_type": "code",
   "execution_count": 35,
   "id": "4070757f",
   "metadata": {},
   "outputs": [
    {
     "data": {
      "text/plain": [
       "''"
      ]
     },
     "execution_count": 35,
     "metadata": {},
     "output_type": "execute_result"
    }
   ],
   "source": [
    "s[-6:-8]"
   ]
  },
  {
   "cell_type": "code",
   "execution_count": 36,
   "id": "1a5b0c18",
   "metadata": {},
   "outputs": [
    {
     "data": {
      "text/plain": [
       "'pw'"
      ]
     },
     "execution_count": 36,
     "metadata": {},
     "output_type": "execute_result"
    }
   ],
   "source": [
    "s[0:2]"
   ]
  },
  {
   "cell_type": "code",
   "execution_count": 37,
   "id": "1b2f19c9",
   "metadata": {},
   "outputs": [
    {
     "data": {
      "text/plain": [
       "'pws'"
      ]
     },
     "execution_count": 37,
     "metadata": {},
     "output_type": "execute_result"
    }
   ],
   "source": [
    "s[0:3]"
   ]
  },
  {
   "cell_type": "code",
   "execution_count": 38,
   "id": "fe4aab76",
   "metadata": {},
   "outputs": [
    {
     "data": {
      "text/plain": [
       "'pws'"
      ]
     },
     "execution_count": 38,
     "metadata": {},
     "output_type": "execute_result"
    }
   ],
   "source": [
    "s[-8:-5]"
   ]
  },
  {
   "cell_type": "code",
   "execution_count": 39,
   "id": "a4540553",
   "metadata": {},
   "outputs": [
    {
     "data": {
      "text/plain": [
       "'pwskills'"
      ]
     },
     "execution_count": 39,
     "metadata": {},
     "output_type": "execute_result"
    }
   ],
   "source": [
    "s[0:8:1]"
   ]
  },
  {
   "cell_type": "code",
   "execution_count": 40,
   "id": "d1854b2f",
   "metadata": {},
   "outputs": [
    {
     "data": {
      "text/plain": [
       "'psil'"
      ]
     },
     "execution_count": 40,
     "metadata": {},
     "output_type": "execute_result"
    }
   ],
   "source": [
    "s[0:8:2]"
   ]
  },
  {
   "cell_type": "code",
   "execution_count": 41,
   "id": "49d8dbfb",
   "metadata": {},
   "outputs": [
    {
     "data": {
      "text/plain": [
       "'psil'"
      ]
     },
     "execution_count": 41,
     "metadata": {},
     "output_type": "execute_result"
    }
   ],
   "source": [
    "s[::2]"
   ]
  },
  {
   "cell_type": "code",
   "execution_count": 42,
   "id": "bcb9b59b",
   "metadata": {},
   "outputs": [
    {
     "data": {
      "text/plain": [
       "'sllikswp'"
      ]
     },
     "execution_count": 42,
     "metadata": {},
     "output_type": "execute_result"
    }
   ],
   "source": [
    "s[::-1]"
   ]
  },
  {
   "cell_type": "code",
   "execution_count": 43,
   "id": "9594947d",
   "metadata": {},
   "outputs": [
    {
     "data": {
      "text/plain": [
       "''"
      ]
     },
     "execution_count": 43,
     "metadata": {},
     "output_type": "execute_result"
    }
   ],
   "source": [
    "s[2:7:-1]"
   ]
  },
  {
   "cell_type": "code",
   "execution_count": 44,
   "id": "41ea3d76",
   "metadata": {},
   "outputs": [
    {
     "data": {
      "text/plain": [
       "'sllik'"
      ]
     },
     "execution_count": 44,
     "metadata": {},
     "output_type": "execute_result"
    }
   ],
   "source": [
    "s[7:2:-1]"
   ]
  },
  {
   "cell_type": "code",
   "execution_count": 45,
   "id": "efcb340b",
   "metadata": {},
   "outputs": [
    {
     "data": {
      "text/plain": [
       "'lliks'"
      ]
     },
     "execution_count": 45,
     "metadata": {},
     "output_type": "execute_result"
    }
   ],
   "source": [
    "s[-2:-7:-1]"
   ]
  },
  {
   "cell_type": "code",
   "execution_count": 46,
   "id": "7ce028cb",
   "metadata": {},
   "outputs": [
    {
     "data": {
      "text/plain": [
       "''"
      ]
     },
     "execution_count": 46,
     "metadata": {},
     "output_type": "execute_result"
    }
   ],
   "source": [
    "s[8:-1:-1]"
   ]
  },
  {
   "cell_type": "code",
   "execution_count": 47,
   "id": "c27b261b",
   "metadata": {},
   "outputs": [
    {
     "data": {
      "text/plain": [
       "'slliksw'"
      ]
     },
     "execution_count": 47,
     "metadata": {},
     "output_type": "execute_result"
    }
   ],
   "source": [
    "s[8:0:-1]"
   ]
  },
  {
   "cell_type": "code",
   "execution_count": 48,
   "id": "c93f3cf7",
   "metadata": {},
   "outputs": [
    {
     "data": {
      "text/plain": [
       "''"
      ]
     },
     "execution_count": 48,
     "metadata": {},
     "output_type": "execute_result"
    }
   ],
   "source": [
    "s[:-90:]"
   ]
  },
  {
   "cell_type": "code",
   "execution_count": 49,
   "id": "f524c00d",
   "metadata": {},
   "outputs": [
    {
     "data": {
      "text/plain": [
       "'sllikswp'"
      ]
     },
     "execution_count": 49,
     "metadata": {},
     "output_type": "execute_result"
    }
   ],
   "source": [
    "s[:-90:-1]"
   ]
  },
  {
   "cell_type": "code",
   "execution_count": 50,
   "id": "1658aa15",
   "metadata": {},
   "outputs": [
    {
     "ename": "IndexError",
     "evalue": "string index out of range",
     "output_type": "error",
     "traceback": [
      "\u001b[1;31m---------------------------------------------------------------------------\u001b[0m",
      "\u001b[1;31mIndexError\u001b[0m                                Traceback (most recent call last)",
      "Cell \u001b[1;32mIn [50], line 1\u001b[0m\n\u001b[1;32m----> 1\u001b[0m \u001b[43ms\u001b[49m\u001b[43m[\u001b[49m\u001b[38;5;241;43m90\u001b[39;49m\u001b[43m]\u001b[49m\n",
      "\u001b[1;31mIndexError\u001b[0m: string index out of range"
     ]
    }
   ],
   "source": [
    "s[90]"
   ]
  },
  {
   "cell_type": "code",
   "execution_count": 51,
   "id": "c15cce0b",
   "metadata": {},
   "outputs": [],
   "source": [
    "c = 200"
   ]
  },
  {
   "cell_type": "code",
   "execution_count": 52,
   "id": "2dba36b1",
   "metadata": {},
   "outputs": [],
   "source": [
    "s1 = \"this is my string class\""
   ]
  },
  {
   "cell_type": "code",
   "execution_count": 53,
   "id": "3819f8a4",
   "metadata": {},
   "outputs": [
    {
     "ename": "TypeError",
     "evalue": "count() takes at least 1 argument (0 given)",
     "output_type": "error",
     "traceback": [
      "\u001b[1;31m---------------------------------------------------------------------------\u001b[0m",
      "\u001b[1;31mTypeError\u001b[0m                                 Traceback (most recent call last)",
      "Cell \u001b[1;32mIn [53], line 1\u001b[0m\n\u001b[1;32m----> 1\u001b[0m \u001b[43ms1\u001b[49m\u001b[38;5;241;43m.\u001b[39;49m\u001b[43mcount\u001b[49m\u001b[43m(\u001b[49m\u001b[43m)\u001b[49m\n",
      "\u001b[1;31mTypeError\u001b[0m: count() takes at least 1 argument (0 given)"
     ]
    }
   ],
   "source": [
    "s1.count()"
   ]
  },
  {
   "cell_type": "code",
   "execution_count": 54,
   "id": "2f28821e",
   "metadata": {},
   "outputs": [
    {
     "data": {
      "text/plain": [
       "23"
      ]
     },
     "execution_count": 54,
     "metadata": {},
     "output_type": "execute_result"
    }
   ],
   "source": [
    "len(s1)"
   ]
  },
  {
   "cell_type": "code",
   "execution_count": 55,
   "id": "496751e0",
   "metadata": {},
   "outputs": [
    {
     "data": {
      "text/plain": [
       "<function str.count>"
      ]
     },
     "execution_count": 55,
     "metadata": {},
     "output_type": "execute_result"
    }
   ],
   "source": [
    "s1.count"
   ]
  },
  {
   "cell_type": "code",
   "execution_count": 56,
   "id": "4951d0b4",
   "metadata": {},
   "outputs": [
    {
     "data": {
      "text/plain": [
       "1"
      ]
     },
     "execution_count": 56,
     "metadata": {},
     "output_type": "execute_result"
    }
   ],
   "source": [
    "s1.count(s1)"
   ]
  },
  {
   "cell_type": "code",
   "execution_count": 57,
   "id": "2bd0014c",
   "metadata": {},
   "outputs": [
    {
     "data": {
      "text/plain": [
       "3"
      ]
     },
     "execution_count": 57,
     "metadata": {},
     "output_type": "execute_result"
    }
   ],
   "source": [
    "s1.find('s')"
   ]
  },
  {
   "cell_type": "code",
   "execution_count": 58,
   "id": "c7e6b482",
   "metadata": {},
   "outputs": [
    {
     "data": {
      "text/plain": [
       "2"
      ]
     },
     "execution_count": 58,
     "metadata": {},
     "output_type": "execute_result"
    }
   ],
   "source": [
    "s1.find(\"is\")"
   ]
  },
  {
   "cell_type": "code",
   "execution_count": 59,
   "id": "2dfe991f",
   "metadata": {},
   "outputs": [
    {
     "data": {
      "text/plain": [
       "-1"
      ]
     },
     "execution_count": 59,
     "metadata": {},
     "output_type": "execute_result"
    }
   ],
   "source": [
    "s1.find(\"iS\")"
   ]
  },
  {
   "cell_type": "code",
   "execution_count": 60,
   "id": "a8cdb8c2",
   "metadata": {},
   "outputs": [
    {
     "data": {
      "text/plain": [
       "5"
      ]
     },
     "execution_count": 60,
     "metadata": {},
     "output_type": "execute_result"
    }
   ],
   "source": [
    "s1.count('s')"
   ]
  },
  {
   "cell_type": "code",
   "execution_count": 61,
   "id": "826bcfae",
   "metadata": {},
   "outputs": [
    {
     "data": {
      "text/plain": [
       "0"
      ]
     },
     "execution_count": 61,
     "metadata": {},
     "output_type": "execute_result"
    }
   ],
   "source": [
    "s1.count('z')"
   ]
  },
  {
   "cell_type": "code",
   "execution_count": 62,
   "id": "87b74706",
   "metadata": {},
   "outputs": [
    {
     "data": {
      "text/plain": [
       "'this is my string class'"
      ]
     },
     "execution_count": 62,
     "metadata": {},
     "output_type": "execute_result"
    }
   ],
   "source": [
    "s1"
   ]
  },
  {
   "cell_type": "code",
   "execution_count": 63,
   "id": "a3caafeb",
   "metadata": {},
   "outputs": [
    {
     "data": {
      "text/plain": [
       "'THIS IS MY STRING CLASS'"
      ]
     },
     "execution_count": 63,
     "metadata": {},
     "output_type": "execute_result"
    }
   ],
   "source": [
    "s1.upper()"
   ]
  },
  {
   "cell_type": "code",
   "execution_count": 64,
   "id": "2da09cf3",
   "metadata": {},
   "outputs": [
    {
     "data": {
      "text/plain": [
       "'this is my string class'"
      ]
     },
     "execution_count": 64,
     "metadata": {},
     "output_type": "execute_result"
    }
   ],
   "source": [
    "s1.lower()"
   ]
  },
  {
   "cell_type": "code",
   "execution_count": 65,
   "id": "998b8126",
   "metadata": {},
   "outputs": [
    {
     "data": {
      "text/plain": [
       "'this is my string class'"
      ]
     },
     "execution_count": 65,
     "metadata": {},
     "output_type": "execute_result"
    }
   ],
   "source": [
    "s1"
   ]
  },
  {
   "cell_type": "code",
   "execution_count": 66,
   "id": "061ef950",
   "metadata": {},
   "outputs": [
    {
     "data": {
      "text/plain": [
       "'This Is My String Class'"
      ]
     },
     "execution_count": 66,
     "metadata": {},
     "output_type": "execute_result"
    }
   ],
   "source": [
    "s1.title()"
   ]
  },
  {
   "cell_type": "code",
   "execution_count": 67,
   "id": "30c90bf3",
   "metadata": {},
   "outputs": [
    {
     "data": {
      "text/plain": [
       "'Pwskills'"
      ]
     },
     "execution_count": 67,
     "metadata": {},
     "output_type": "execute_result"
    }
   ],
   "source": [
    "s.capitalize()"
   ]
  },
  {
   "cell_type": "code",
   "execution_count": 68,
   "id": "683dd5c9",
   "metadata": {},
   "outputs": [
    {
     "data": {
      "text/plain": [
       "'This is my string class'"
      ]
     },
     "execution_count": 68,
     "metadata": {},
     "output_type": "execute_result"
    }
   ],
   "source": [
    "s1.capitalize()"
   ]
  },
  {
   "cell_type": "code",
   "execution_count": 69,
   "id": "c31c67cc",
   "metadata": {},
   "outputs": [
    {
     "data": {
      "text/plain": [
       "'pwskills'"
      ]
     },
     "execution_count": 69,
     "metadata": {},
     "output_type": "execute_result"
    }
   ],
   "source": [
    "s"
   ]
  },
  {
   "cell_type": "code",
   "execution_count": 70,
   "id": "7d7335f1",
   "metadata": {},
   "outputs": [
    {
     "ename": "TypeError",
     "evalue": "can only concatenate str (not \"int\") to str",
     "output_type": "error",
     "traceback": [
      "\u001b[1;31m---------------------------------------------------------------------------\u001b[0m",
      "\u001b[1;31mTypeError\u001b[0m                                 Traceback (most recent call last)",
      "Cell \u001b[1;32mIn [70], line 1\u001b[0m\n\u001b[1;32m----> 1\u001b[0m \u001b[43ms\u001b[49m\u001b[43m \u001b[49m\u001b[38;5;241;43m+\u001b[39;49m\u001b[43m \u001b[49m\u001b[38;5;241;43m1\u001b[39;49m\n",
      "\u001b[1;31mTypeError\u001b[0m: can only concatenate str (not \"int\") to str"
     ]
    }
   ],
   "source": [
    "s + 1"
   ]
  },
  {
   "cell_type": "code",
   "execution_count": 72,
   "id": "a0c315b0",
   "metadata": {},
   "outputs": [
    {
     "data": {
      "text/plain": [
       "'pwskills 1'"
      ]
     },
     "execution_count": 72,
     "metadata": {},
     "output_type": "execute_result"
    }
   ],
   "source": [
    "s +' 1'"
   ]
  },
  {
   "cell_type": "code",
   "execution_count": 73,
   "id": "d16ec672",
   "metadata": {},
   "outputs": [
    {
     "data": {
      "text/plain": [
       "'pwskills1'"
      ]
     },
     "execution_count": 73,
     "metadata": {},
     "output_type": "execute_result"
    }
   ],
   "source": [
    "s + str(1)"
   ]
  },
  {
   "cell_type": "code",
   "execution_count": 74,
   "id": "4ccae576",
   "metadata": {},
   "outputs": [
    {
     "data": {
      "text/plain": [
       "'pwskillspwskillspwskills'"
      ]
     },
     "execution_count": 74,
     "metadata": {},
     "output_type": "execute_result"
    }
   ],
   "source": [
    "s * 3"
   ]
  },
  {
   "cell_type": "code",
   "execution_count": 75,
   "id": "da5f6f8d",
   "metadata": {},
   "outputs": [
    {
     "ename": "TypeError",
     "evalue": "unsupported operand type(s) for /: 'str' and 'int'",
     "output_type": "error",
     "traceback": [
      "\u001b[1;31m---------------------------------------------------------------------------\u001b[0m",
      "\u001b[1;31mTypeError\u001b[0m                                 Traceback (most recent call last)",
      "Cell \u001b[1;32mIn [75], line 1\u001b[0m\n\u001b[1;32m----> 1\u001b[0m \u001b[43ms\u001b[49m\u001b[38;5;241;43m/\u001b[39;49m\u001b[38;5;241;43m2\u001b[39;49m\n",
      "\u001b[1;31mTypeError\u001b[0m: unsupported operand type(s) for /: 'str' and 'int'"
     ]
    }
   ],
   "source": [
    "s/2"
   ]
  },
  {
   "cell_type": "code",
   "execution_count": 76,
   "id": "d38164fc",
   "metadata": {},
   "outputs": [
    {
     "data": {
      "text/plain": [
       "\"don't do copy and paste in my class\""
      ]
     },
     "execution_count": 76,
     "metadata": {},
     "output_type": "execute_result"
    }
   ],
   "source": [
    "\"don't do copy and paste in my class\""
   ]
  },
  {
   "cell_type": "code",
   "execution_count": 82,
   "id": "83077fc7",
   "metadata": {},
   "outputs": [
    {
     "data": {
      "text/plain": [
       "'this is my frist class of python\\ni have learn variable , data type, int, ext\\ni have seen some example\\ni have gone through inbuilt function'"
      ]
     },
     "execution_count": 82,
     "metadata": {},
     "output_type": "execute_result"
    }
   ],
   "source": [
    "# this is my frist class of python\n",
    "# i have learn variable , data type, int, ext\n",
    "# i have seen some example\n",
    "# i have gone through inbuilt function"
   ]
  },
  {
   "cell_type": "code",
   "execution_count": 1,
   "id": "153423ae",
   "metadata": {},
   "outputs": [],
   "source": [
    "l = [1,345,45,\"sudh\",True,5+7j,345.456]"
   ]
  },
  {
   "cell_type": "code",
   "execution_count": 2,
   "id": "53fb2a0a",
   "metadata": {},
   "outputs": [
    {
     "data": {
      "text/plain": [
       "list"
      ]
     },
     "execution_count": 2,
     "metadata": {},
     "output_type": "execute_result"
    }
   ],
   "source": [
    "type(l)"
   ]
  },
  {
   "cell_type": "code",
   "execution_count": 3,
   "id": "66bb4b64",
   "metadata": {},
   "outputs": [
    {
     "data": {
      "text/plain": [
       "45"
      ]
     },
     "execution_count": 3,
     "metadata": {},
     "output_type": "execute_result"
    }
   ],
   "source": [
    " l[2]"
   ]
  },
  {
   "cell_type": "code",
   "execution_count": 4,
   "id": "9573bfc0",
   "metadata": {},
   "outputs": [
    {
     "data": {
      "text/plain": [
       "1"
      ]
     },
     "execution_count": 4,
     "metadata": {},
     "output_type": "execute_result"
    }
   ],
   "source": [
    "l[0]"
   ]
  },
  {
   "cell_type": "code",
   "execution_count": 5,
   "id": "6f409c26",
   "metadata": {},
   "outputs": [
    {
     "data": {
      "text/plain": [
       "345.456"
      ]
     },
     "execution_count": 5,
     "metadata": {},
     "output_type": "execute_result"
    }
   ],
   "source": [
    "l[6]"
   ]
  },
  {
   "cell_type": "code",
   "execution_count": 6,
   "id": "4f742d08",
   "metadata": {},
   "outputs": [
    {
     "ename": "IndexError",
     "evalue": "list index out of range",
     "output_type": "error",
     "traceback": [
      "\u001b[1;31m---------------------------------------------------------------------------\u001b[0m",
      "\u001b[1;31mIndexError\u001b[0m                                Traceback (most recent call last)",
      "Cell \u001b[1;32mIn [6], line 1\u001b[0m\n\u001b[1;32m----> 1\u001b[0m \u001b[43ml\u001b[49m\u001b[43m[\u001b[49m\u001b[38;5;241;43m90\u001b[39;49m\u001b[43m]\u001b[49m\n",
      "\u001b[1;31mIndexError\u001b[0m: list index out of range"
     ]
    }
   ],
   "source": [
    "l[90]"
   ]
  },
  {
   "cell_type": "code",
   "execution_count": 7,
   "id": "079bc988",
   "metadata": {},
   "outputs": [
    {
     "data": {
      "text/plain": [
       "[1, 345, 45, 'sudh', True, (5+7j), 345.456]"
      ]
     },
     "execution_count": 7,
     "metadata": {},
     "output_type": "execute_result"
    }
   ],
   "source": [
    "l"
   ]
  },
  {
   "cell_type": "code",
   "execution_count": 8,
   "id": "5d855190",
   "metadata": {},
   "outputs": [
    {
     "data": {
      "text/plain": [
       "[1, 345, 45]"
      ]
     },
     "execution_count": 8,
     "metadata": {},
     "output_type": "execute_result"
    }
   ],
   "source": [
    "l[0:3]"
   ]
  },
  {
   "cell_type": "code",
   "execution_count": 9,
   "id": "5c5f176c",
   "metadata": {},
   "outputs": [
    {
     "data": {
      "text/plain": [
       "345.456"
      ]
     },
     "execution_count": 9,
     "metadata": {},
     "output_type": "execute_result"
    }
   ],
   "source": [
    "l[-1]"
   ]
  },
  {
   "cell_type": "code",
   "execution_count": 10,
   "id": "4682c38a",
   "metadata": {},
   "outputs": [
    {
     "data": {
      "text/plain": [
       "[345.456, (5+7j), True, 'sudh', 45, 345, 1]"
      ]
     },
     "execution_count": 10,
     "metadata": {},
     "output_type": "execute_result"
    }
   ],
   "source": [
    "l[::-1] "
   ]
  },
  {
   "cell_type": "code",
   "execution_count": 11,
   "id": "09bdee36",
   "metadata": {},
   "outputs": [
    {
     "data": {
      "text/plain": [
       "[1, 45, True, 345.456]"
      ]
     },
     "execution_count": 11,
     "metadata": {},
     "output_type": "execute_result"
    }
   ],
   "source": [
    "l[::2]"
   ]
  },
  {
   "cell_type": "code",
   "execution_count": 12,
   "id": "0781379c",
   "metadata": {},
   "outputs": [
    {
     "data": {
      "text/plain": [
       "[1, 345, 45, 'sudh', True, (5+7j), 345.456]"
      ]
     },
     "execution_count": 12,
     "metadata": {},
     "output_type": "execute_result"
    }
   ],
   "source": [
    "l"
   ]
  },
  {
   "cell_type": "code",
   "execution_count": 13,
   "id": "26fb6de8",
   "metadata": {},
   "outputs": [],
   "source": [
    "s = \"pwskills\""
   ]
  },
  {
   "cell_type": "code",
   "execution_count": 14,
   "id": "0f9d1e41",
   "metadata": {},
   "outputs": [
    {
     "ename": "TypeError",
     "evalue": "can only concatenate list (not \"str\") to list",
     "output_type": "error",
     "traceback": [
      "\u001b[1;31m---------------------------------------------------------------------------\u001b[0m",
      "\u001b[1;31mTypeError\u001b[0m                                 Traceback (most recent call last)",
      "Cell \u001b[1;32mIn [14], line 1\u001b[0m\n\u001b[1;32m----> 1\u001b[0m \u001b[43ml\u001b[49m\u001b[38;5;241;43m+\u001b[39;49m\u001b[43ms\u001b[49m\n",
      "\u001b[1;31mTypeError\u001b[0m: can only concatenate list (not \"str\") to list"
     ]
    }
   ],
   "source": [
    "l+s"
   ]
  },
  {
   "cell_type": "code",
   "execution_count": 15,
   "id": "6875c123",
   "metadata": {},
   "outputs": [
    {
     "data": {
      "text/plain": [
       "['p', 'w', 's', 'k', 'i', 'l', 'l', 's']"
      ]
     },
     "execution_count": 15,
     "metadata": {},
     "output_type": "execute_result"
    }
   ],
   "source": [
    "list(s)"
   ]
  },
  {
   "cell_type": "code",
   "execution_count": 16,
   "id": "2147bc1d",
   "metadata": {},
   "outputs": [
    {
     "data": {
      "text/plain": [
       "['p',\n",
       " 'w',\n",
       " 's',\n",
       " 'k',\n",
       " 'i',\n",
       " 'l',\n",
       " 'l',\n",
       " 's',\n",
       " 1,\n",
       " 345,\n",
       " 45,\n",
       " 'sudh',\n",
       " True,\n",
       " (5+7j),\n",
       " 345.456]"
      ]
     },
     "execution_count": 16,
     "metadata": {},
     "output_type": "execute_result"
    }
   ],
   "source": [
    " list(s) + l"
   ]
  },
  {
   "cell_type": "code",
   "execution_count": 17,
   "id": "de16a6ab",
   "metadata": {},
   "outputs": [
    {
     "data": {
      "text/plain": [
       "[1, 345, 45, 'sudh', True, (5+7j), 345.456]"
      ]
     },
     "execution_count": 17,
     "metadata": {},
     "output_type": "execute_result"
    }
   ],
   "source": [
    "l"
   ]
  },
  {
   "cell_type": "code",
   "execution_count": 18,
   "id": "709b38a2",
   "metadata": {},
   "outputs": [
    {
     "data": {
      "text/plain": [
       "'sudh'"
      ]
     },
     "execution_count": 18,
     "metadata": {},
     "output_type": "execute_result"
    }
   ],
   "source": [
    "l[3] "
   ]
  },
  {
   "cell_type": "code",
   "execution_count": 19,
   "id": "e187eb24",
   "metadata": {},
   "outputs": [
    {
     "data": {
      "text/plain": [
       "str"
      ]
     },
     "execution_count": 19,
     "metadata": {},
     "output_type": "execute_result"
    }
   ],
   "source": [
    "type(l[3])"
   ]
  },
  {
   "cell_type": "code",
   "execution_count": 20,
   "id": "dabb1cc4",
   "metadata": {},
   "outputs": [
    {
     "data": {
      "text/plain": [
       "'su'"
      ]
     },
     "execution_count": 20,
     "metadata": {},
     "output_type": "execute_result"
    }
   ],
   "source": [
    "l[3][0:2]"
   ]
  },
  {
   "cell_type": "code",
   "execution_count": 21,
   "id": "ae3da317",
   "metadata": {},
   "outputs": [
    {
     "ename": "TypeError",
     "evalue": "'bool' object is not subscriptable",
     "output_type": "error",
     "traceback": [
      "\u001b[1;31m---------------------------------------------------------------------------\u001b[0m",
      "\u001b[1;31mTypeError\u001b[0m                                 Traceback (most recent call last)",
      "Cell \u001b[1;32mIn [21], line 1\u001b[0m\n\u001b[1;32m----> 1\u001b[0m \u001b[43ml\u001b[49m\u001b[43m[\u001b[49m\u001b[38;5;241;43m4\u001b[39;49m\u001b[43m]\u001b[49m\u001b[43m[\u001b[49m\u001b[38;5;241;43m2\u001b[39;49m\u001b[43m:\u001b[49m\u001b[38;5;241;43m4\u001b[39;49m\u001b[43m]\u001b[49m\n",
      "\u001b[1;31mTypeError\u001b[0m: 'bool' object is not subscriptable"
     ]
    }
   ],
   "source": [
    "l[4][2:4]"
   ]
  },
  {
   "cell_type": "code",
   "execution_count": 24,
   "id": "8fdd5dd1",
   "metadata": {},
   "outputs": [
    {
     "data": {
      "text/plain": [
       "'Tr'"
      ]
     },
     "execution_count": 24,
     "metadata": {},
     "output_type": "execute_result"
    }
   ],
   "source": [
    "str(l[4])[0:2]"
   ]
  },
  {
   "cell_type": "code",
   "execution_count": 23,
   "id": "a7fc6d58",
   "metadata": {},
   "outputs": [
    {
     "ename": "TypeError",
     "evalue": "'bool' object is not subscriptable",
     "output_type": "error",
     "traceback": [
      "\u001b[1;31m---------------------------------------------------------------------------\u001b[0m",
      "\u001b[1;31mTypeError\u001b[0m                                 Traceback (most recent call last)",
      "Cell \u001b[1;32mIn [23], line 1\u001b[0m\n\u001b[1;32m----> 1\u001b[0m \u001b[43ml\u001b[49m\u001b[43m[\u001b[49m\u001b[38;5;241;43m4\u001b[39;49m\u001b[43m]\u001b[49m\u001b[43m[\u001b[49m\u001b[38;5;241;43m2\u001b[39;49m\u001b[43m:\u001b[49m\u001b[38;5;241;43m4\u001b[39;49m\u001b[43m]\u001b[49m\n",
      "\u001b[1;31mTypeError\u001b[0m: 'bool' object is not subscriptable"
     ]
    }
   ],
   "source": [
    "l[4][2:4]"
   ]
  },
  {
   "cell_type": "code",
   "execution_count": 25,
   "id": "94ed0410",
   "metadata": {},
   "outputs": [
    {
     "data": {
      "text/plain": [
       "[1, 345, 45, 'sudh', True, (5+7j), 345.456]"
      ]
     },
     "execution_count": 25,
     "metadata": {},
     "output_type": "execute_result"
    }
   ],
   "source": [
    "l"
   ]
  },
  {
   "cell_type": "code",
   "execution_count": 26,
   "id": "1255e2fe",
   "metadata": {},
   "outputs": [],
   "source": [
    "l1 = [3,4,5]"
   ]
  },
  {
   "cell_type": "code",
   "execution_count": 27,
   "id": "d0abafce",
   "metadata": {},
   "outputs": [
    {
     "data": {
      "text/plain": [
       "[1, 345, 45, 'sudh', True, (5+7j), 345.456, 3, 4, 5]"
      ]
     },
     "execution_count": 27,
     "metadata": {},
     "output_type": "execute_result"
    }
   ],
   "source": [
    "l + l1"
   ]
  },
  {
   "cell_type": "code",
   "execution_count": 28,
   "id": "65563d5c",
   "metadata": {},
   "outputs": [
    {
     "data": {
      "text/plain": [
       "[3, 4, 5]"
      ]
     },
     "execution_count": 28,
     "metadata": {},
     "output_type": "execute_result"
    }
   ],
   "source": [
    "l1"
   ]
  },
  {
   "cell_type": "code",
   "execution_count": 29,
   "id": "2ccd6bfb",
   "metadata": {},
   "outputs": [
    {
     "data": {
      "text/plain": [
       "[3, 4, 5, 3, 4, 5, 3, 4, 5]"
      ]
     },
     "execution_count": 29,
     "metadata": {},
     "output_type": "execute_result"
    }
   ],
   "source": [
    "l1 * 3"
   ]
  },
  {
   "cell_type": "code",
   "execution_count": 30,
   "id": "7ff74011",
   "metadata": {},
   "outputs": [
    {
     "data": {
      "text/plain": [
       "[1, 345, 45, 'sudh', True, (5+7j), 345.456]"
      ]
     },
     "execution_count": 30,
     "metadata": {},
     "output_type": "execute_result"
    }
   ],
   "source": [
    "l"
   ]
  },
  {
   "cell_type": "code",
   "execution_count": 31,
   "id": "36d945a4",
   "metadata": {},
   "outputs": [
    {
     "data": {
      "text/plain": [
       "7"
      ]
     },
     "execution_count": 31,
     "metadata": {},
     "output_type": "execute_result"
    }
   ],
   "source": [
    "len(l)"
   ]
  },
  {
   "cell_type": "code",
   "execution_count": 32,
   "id": "739b3c40",
   "metadata": {},
   "outputs": [],
   "source": [
    "l.append(\"krishna\")"
   ]
  },
  {
   "cell_type": "code",
   "execution_count": 33,
   "id": "cd9d8dba",
   "metadata": {},
   "outputs": [
    {
     "data": {
      "text/plain": [
       "[1, 345, 45, 'sudh', True, (5+7j), 345.456, 'krishna']"
      ]
     },
     "execution_count": 33,
     "metadata": {},
     "output_type": "execute_result"
    }
   ],
   "source": [
    "l"
   ]
  },
  {
   "cell_type": "code",
   "execution_count": 34,
   "id": "42bcb992",
   "metadata": {},
   "outputs": [
    {
     "ename": "TypeError",
     "evalue": "list.count() takes exactly one argument (0 given)",
     "output_type": "error",
     "traceback": [
      "\u001b[1;31m---------------------------------------------------------------------------\u001b[0m",
      "\u001b[1;31mTypeError\u001b[0m                                 Traceback (most recent call last)",
      "Cell \u001b[1;32mIn [34], line 1\u001b[0m\n\u001b[1;32m----> 1\u001b[0m \u001b[43ml\u001b[49m\u001b[38;5;241;43m.\u001b[39;49m\u001b[43mcount\u001b[49m\u001b[43m(\u001b[49m\u001b[43m)\u001b[49m\n",
      "\u001b[1;31mTypeError\u001b[0m: list.count() takes exactly one argument (0 given)"
     ]
    }
   ],
   "source": [
    "l.count()"
   ]
  },
  {
   "cell_type": "code",
   "execution_count": 35,
   "id": "750a3cc5",
   "metadata": {},
   "outputs": [
    {
     "data": {
      "text/plain": [
       "1"
      ]
     },
     "execution_count": 35,
     "metadata": {},
     "output_type": "execute_result"
    }
   ],
   "source": [
    "l.count(345)"
   ]
  },
  {
   "cell_type": "code",
   "execution_count": 36,
   "id": "492979b5",
   "metadata": {},
   "outputs": [],
   "source": [
    "l.append(s)"
   ]
  },
  {
   "cell_type": "code",
   "execution_count": 37,
   "id": "9a1da481",
   "metadata": {},
   "outputs": [
    {
     "data": {
      "text/plain": [
       "[1, 345, 45, 'sudh', True, (5+7j), 345.456, 'krishna', 'pwskills']"
      ]
     },
     "execution_count": 37,
     "metadata": {},
     "output_type": "execute_result"
    }
   ],
   "source": [
    "l"
   ]
  },
  {
   "cell_type": "code",
   "execution_count": 38,
   "id": "5deaeff2",
   "metadata": {},
   "outputs": [
    {
     "data": {
      "text/plain": [
       "[3, 4, 5]"
      ]
     },
     "execution_count": 38,
     "metadata": {},
     "output_type": "execute_result"
    }
   ],
   "source": [
    "l1"
   ]
  },
  {
   "cell_type": "code",
   "execution_count": 39,
   "id": "1ad55f3a",
   "metadata": {},
   "outputs": [],
   "source": [
    "l.append(l1)"
   ]
  },
  {
   "cell_type": "code",
   "execution_count": 40,
   "id": "c3ca9bf1",
   "metadata": {},
   "outputs": [
    {
     "data": {
      "text/plain": [
       "[1, 345, 45, 'sudh', True, (5+7j), 345.456, 'krishna', 'pwskills', [3, 4, 5]]"
      ]
     },
     "execution_count": 40,
     "metadata": {},
     "output_type": "execute_result"
    }
   ],
   "source": [
    "l"
   ]
  },
  {
   "cell_type": "code",
   "execution_count": 41,
   "id": "5a3bf8b4",
   "metadata": {},
   "outputs": [
    {
     "data": {
      "text/plain": [
       "[3, 4, 5]"
      ]
     },
     "execution_count": 41,
     "metadata": {},
     "output_type": "execute_result"
    }
   ],
   "source": [
    "l[-1]"
   ]
  },
  {
   "cell_type": "code",
   "execution_count": 42,
   "id": "c51198a4",
   "metadata": {},
   "outputs": [
    {
     "data": {
      "text/plain": [
       "4"
      ]
     },
     "execution_count": 42,
     "metadata": {},
     "output_type": "execute_result"
    }
   ],
   "source": [
    "l[-1][1]"
   ]
  },
  {
   "cell_type": "code",
   "execution_count": 43,
   "id": "400fe82a",
   "metadata": {},
   "outputs": [
    {
     "data": {
      "text/plain": [
       "[1, 345, 45, 'sudh', True, (5+7j), 345.456, 'krishna', 'pwskills', [3, 4, 5]]"
      ]
     },
     "execution_count": 43,
     "metadata": {},
     "output_type": "execute_result"
    }
   ],
   "source": [
    "l"
   ]
  },
  {
   "cell_type": "code",
   "execution_count": 44,
   "id": "e978f970",
   "metadata": {},
   "outputs": [
    {
     "data": {
      "text/plain": [
       "'pwskills'"
      ]
     },
     "execution_count": 44,
     "metadata": {},
     "output_type": "execute_result"
    }
   ],
   "source": [
    "l[-2]"
   ]
  },
  {
   "cell_type": "code",
   "execution_count": 45,
   "id": "9835e799",
   "metadata": {},
   "outputs": [
    {
     "data": {
      "text/plain": [
       "'pw'"
      ]
     },
     "execution_count": 45,
     "metadata": {},
     "output_type": "execute_result"
    }
   ],
   "source": [
    "l[-2][0:2]"
   ]
  },
  {
   "cell_type": "code",
   "execution_count": 46,
   "id": "f171e35f",
   "metadata": {},
   "outputs": [
    {
     "ename": "TypeError",
     "evalue": "'int' object is not iterable",
     "output_type": "error",
     "traceback": [
      "\u001b[1;31m---------------------------------------------------------------------------\u001b[0m",
      "\u001b[1;31mTypeError\u001b[0m                                 Traceback (most recent call last)",
      "Cell \u001b[1;32mIn [46], line 1\u001b[0m\n\u001b[1;32m----> 1\u001b[0m \u001b[43ml\u001b[49m\u001b[38;5;241;43m.\u001b[39;49m\u001b[43mextend\u001b[49m\u001b[43m(\u001b[49m\u001b[38;5;241;43m4\u001b[39;49m\u001b[43m)\u001b[49m\n",
      "\u001b[1;31mTypeError\u001b[0m: 'int' object is not iterable"
     ]
    }
   ],
   "source": [
    "l.extend(4)"
   ]
  },
  {
   "cell_type": "code",
   "execution_count": 47,
   "id": "f82e5e25",
   "metadata": {},
   "outputs": [],
   "source": [
    "l.extend(\"sudh\")"
   ]
  },
  {
   "cell_type": "code",
   "execution_count": 48,
   "id": "2c77577f",
   "metadata": {},
   "outputs": [
    {
     "data": {
      "text/plain": [
       "[1,\n",
       " 345,\n",
       " 45,\n",
       " 'sudh',\n",
       " True,\n",
       " (5+7j),\n",
       " 345.456,\n",
       " 'krishna',\n",
       " 'pwskills',\n",
       " [3, 4, 5],\n",
       " 's',\n",
       " 'u',\n",
       " 'd',\n",
       " 'h']"
      ]
     },
     "execution_count": 48,
     "metadata": {},
     "output_type": "execute_result"
    }
   ],
   "source": [
    "l"
   ]
  },
  {
   "cell_type": "code",
   "execution_count": 49,
   "id": "fd399aaf",
   "metadata": {},
   "outputs": [],
   "source": [
    "l.extend([3,4,5])"
   ]
  },
  {
   "cell_type": "code",
   "execution_count": 50,
   "id": "a20ddd7a",
   "metadata": {},
   "outputs": [
    {
     "data": {
      "text/plain": [
       "[1,\n",
       " 345,\n",
       " 45,\n",
       " 'sudh',\n",
       " True,\n",
       " (5+7j),\n",
       " 345.456,\n",
       " 'krishna',\n",
       " 'pwskills',\n",
       " [3, 4, 5],\n",
       " 's',\n",
       " 'u',\n",
       " 'd',\n",
       " 'h',\n",
       " 3,\n",
       " 4,\n",
       " 5]"
      ]
     },
     "execution_count": 50,
     "metadata": {},
     "output_type": "execute_result"
    }
   ],
   "source": [
    "l"
   ]
  },
  {
   "cell_type": "code",
   "execution_count": 51,
   "id": "d32809a4",
   "metadata": {},
   "outputs": [
    {
     "data": {
      "text/plain": [
       "[3, 4, 5]"
      ]
     },
     "execution_count": 51,
     "metadata": {},
     "output_type": "execute_result"
    }
   ],
   "source": [
    " l1"
   ]
  },
  {
   "cell_type": "code",
   "execution_count": 52,
   "id": "336494c5",
   "metadata": {},
   "outputs": [],
   "source": [
    "l1.insert(1,\"krishna\")"
   ]
  },
  {
   "cell_type": "code",
   "execution_count": 53,
   "id": "1b520679",
   "metadata": {},
   "outputs": [
    {
     "data": {
      "text/plain": [
       "[3, 'krishna', 4, 5]"
      ]
     },
     "execution_count": 53,
     "metadata": {},
     "output_type": "execute_result"
    }
   ],
   "source": [
    "l1"
   ]
  },
  {
   "cell_type": "code",
   "execution_count": 54,
   "id": "b08a364a",
   "metadata": {},
   "outputs": [],
   "source": [
    "l1.insert(2,[2,3,4])"
   ]
  },
  {
   "cell_type": "code",
   "execution_count": 55,
   "id": "9edea16a",
   "metadata": {},
   "outputs": [
    {
     "data": {
      "text/plain": [
       "[3, 'krishna', [2, 3, 4], 4, 5]"
      ]
     },
     "execution_count": 55,
     "metadata": {},
     "output_type": "execute_result"
    }
   ],
   "source": [
    "l1"
   ]
  },
  {
   "cell_type": "code",
   "execution_count": 56,
   "id": "9104a61b",
   "metadata": {},
   "outputs": [],
   "source": [
    " l1.insert(-1, 45)"
   ]
  },
  {
   "cell_type": "code",
   "execution_count": 57,
   "id": "f0c366ff",
   "metadata": {},
   "outputs": [
    {
     "data": {
      "text/plain": [
       "[3, 'krishna', [2, 3, 4], 4, 45, 5]"
      ]
     },
     "execution_count": 57,
     "metadata": {},
     "output_type": "execute_result"
    }
   ],
   "source": [
    "l1"
   ]
  },
  {
   "cell_type": "code",
   "execution_count": 58,
   "id": "a7deb33e",
   "metadata": {},
   "outputs": [],
   "source": [
    "l1.insert(0,59)"
   ]
  },
  {
   "cell_type": "code",
   "execution_count": 59,
   "id": "c7b8b92b",
   "metadata": {},
   "outputs": [
    {
     "data": {
      "text/plain": [
       "[59, 3, 'krishna', [2, 3, 4], 4, 45, 5]"
      ]
     },
     "execution_count": 59,
     "metadata": {},
     "output_type": "execute_result"
    }
   ],
   "source": [
    "l1"
   ]
  },
  {
   "cell_type": "code",
   "execution_count": 60,
   "id": "45e7c8b0",
   "metadata": {},
   "outputs": [],
   "source": [
    "l1.remove(45)"
   ]
  },
  {
   "cell_type": "code",
   "execution_count": 61,
   "id": "84dd1a9a",
   "metadata": {},
   "outputs": [
    {
     "data": {
      "text/plain": [
       "[59, 3, 'krishna', [2, 3, 4], 4, 5]"
      ]
     },
     "execution_count": 61,
     "metadata": {},
     "output_type": "execute_result"
    }
   ],
   "source": [
    "l1"
   ]
  },
  {
   "cell_type": "code",
   "execution_count": 62,
   "id": "67add595",
   "metadata": {},
   "outputs": [
    {
     "data": {
      "text/plain": [
       "5"
      ]
     },
     "execution_count": 62,
     "metadata": {},
     "output_type": "execute_result"
    }
   ],
   "source": [
    "l1.pop()"
   ]
  },
  {
   "cell_type": "code",
   "execution_count": 63,
   "id": "e5bbe157",
   "metadata": {},
   "outputs": [
    {
     "data": {
      "text/plain": [
       "[59, 3, 'krishna', [2, 3, 4], 4]"
      ]
     },
     "execution_count": 63,
     "metadata": {},
     "output_type": "execute_result"
    }
   ],
   "source": [
    "l1"
   ]
  },
  {
   "cell_type": "code",
   "execution_count": 64,
   "id": "bbb9d6a2",
   "metadata": {},
   "outputs": [
    {
     "data": {
      "text/plain": [
       "'krishna'"
      ]
     },
     "execution_count": 64,
     "metadata": {},
     "output_type": "execute_result"
    }
   ],
   "source": [
    "l1.pop(2)"
   ]
  },
  {
   "cell_type": "code",
   "execution_count": 65,
   "id": "8e4bbc8f",
   "metadata": {},
   "outputs": [
    {
     "data": {
      "text/plain": [
       "[59, 3, [2, 3, 4], 4]"
      ]
     },
     "execution_count": 65,
     "metadata": {},
     "output_type": "execute_result"
    }
   ],
   "source": [
    "l1"
   ]
  },
  {
   "cell_type": "code",
   "execution_count": 66,
   "id": "c6934017",
   "metadata": {},
   "outputs": [],
   "source": [
    "l1.remove(3)"
   ]
  },
  {
   "cell_type": "code",
   "execution_count": 67,
   "id": "27d1bf9a",
   "metadata": {},
   "outputs": [
    {
     "data": {
      "text/plain": [
       "[59, [2, 3, 4], 4]"
      ]
     },
     "execution_count": 67,
     "metadata": {},
     "output_type": "execute_result"
    }
   ],
   "source": [
    "l1"
   ]
  },
  {
   "cell_type": "code",
   "execution_count": 68,
   "id": "0cfd898d",
   "metadata": {},
   "outputs": [
    {
     "ename": "ValueError",
     "evalue": "list.remove(x): x not in list",
     "output_type": "error",
     "traceback": [
      "\u001b[1;31m---------------------------------------------------------------------------\u001b[0m",
      "\u001b[1;31mValueError\u001b[0m                                Traceback (most recent call last)",
      "Cell \u001b[1;32mIn [68], line 1\u001b[0m\n\u001b[1;32m----> 1\u001b[0m \u001b[43ml1\u001b[49m\u001b[38;5;241;43m.\u001b[39;49m\u001b[43mremove\u001b[49m\u001b[43m(\u001b[49m\u001b[38;5;241;43m234\u001b[39;49m\u001b[43m)\u001b[49m\n",
      "\u001b[1;31mValueError\u001b[0m: list.remove(x): x not in list"
     ]
    }
   ],
   "source": [
    "l1.remove(234)"
   ]
  },
  {
   "cell_type": "code",
   "execution_count": 69,
   "id": "5c2153eb",
   "metadata": {},
   "outputs": [
    {
     "data": {
      "text/plain": [
       "4"
      ]
     },
     "execution_count": 69,
     "metadata": {},
     "output_type": "execute_result"
    }
   ],
   "source": [
    "l1[2]"
   ]
  },
  {
   "cell_type": "code",
   "execution_count": 70,
   "id": "b1daa9c5",
   "metadata": {},
   "outputs": [
    {
     "data": {
      "text/plain": [
       "[59, [2, 3, 4], 4]"
      ]
     },
     "execution_count": 70,
     "metadata": {},
     "output_type": "execute_result"
    }
   ],
   "source": [
    "l1"
   ]
  },
  {
   "cell_type": "code",
   "execution_count": 71,
   "id": "0be00005",
   "metadata": {},
   "outputs": [
    {
     "data": {
      "text/plain": [
       "[2, 3, 4]"
      ]
     },
     "execution_count": 71,
     "metadata": {},
     "output_type": "execute_result"
    }
   ],
   "source": [
    "l1[1]"
   ]
  },
  {
   "cell_type": "code",
   "execution_count": 72,
   "id": "59739271",
   "metadata": {},
   "outputs": [],
   "source": [
    "l1[1].remove(3)"
   ]
  },
  {
   "cell_type": "code",
   "execution_count": 73,
   "id": "3a9068fe",
   "metadata": {},
   "outputs": [
    {
     "data": {
      "text/plain": [
       "[59, [2, 4], 4]"
      ]
     },
     "execution_count": 73,
     "metadata": {},
     "output_type": "execute_result"
    }
   ],
   "source": [
    "l1"
   ]
  },
  {
   "cell_type": "code",
   "execution_count": 74,
   "id": "09a16b6c",
   "metadata": {},
   "outputs": [],
   "source": [
    "l1.insert(1,\"krishna\")"
   ]
  },
  {
   "cell_type": "code",
   "execution_count": 75,
   "id": "262d1ced",
   "metadata": {},
   "outputs": [
    {
     "data": {
      "text/plain": [
       "[59, 'krishna', [2, 4], 4]"
      ]
     },
     "execution_count": 75,
     "metadata": {},
     "output_type": "execute_result"
    }
   ],
   "source": [
    "l1"
   ]
  },
  {
   "cell_type": "code",
   "execution_count": 76,
   "id": "79b365f5",
   "metadata": {},
   "outputs": [],
   "source": [
    "l1.append(4)"
   ]
  },
  {
   "cell_type": "code",
   "execution_count": 77,
   "id": "b2270ded",
   "metadata": {},
   "outputs": [
    {
     "data": {
      "text/plain": [
       "[59, 'krishna', [2, 4], 4, 4]"
      ]
     },
     "execution_count": 77,
     "metadata": {},
     "output_type": "execute_result"
    }
   ],
   "source": [
    "l1"
   ]
  },
  {
   "cell_type": "code",
   "execution_count": 78,
   "id": "c2454d8b",
   "metadata": {},
   "outputs": [],
   "source": [
    "l1.remove(4)"
   ]
  },
  {
   "cell_type": "code",
   "execution_count": 79,
   "id": "625f4667",
   "metadata": {},
   "outputs": [
    {
     "data": {
      "text/plain": [
       "[59, 'krishna', [2, 4], 4]"
      ]
     },
     "execution_count": 79,
     "metadata": {},
     "output_type": "execute_result"
    }
   ],
   "source": [
    "l1"
   ]
  },
  {
   "cell_type": "code",
   "execution_count": 80,
   "id": "5f72dee9",
   "metadata": {},
   "outputs": [
    {
     "data": {
      "text/plain": [
       "[59, 'krishna', [2, 4], 4]"
      ]
     },
     "execution_count": 80,
     "metadata": {},
     "output_type": "execute_result"
    }
   ],
   "source": [
    "l1"
   ]
  },
  {
   "cell_type": "code",
   "execution_count": 81,
   "id": "5be2cbca",
   "metadata": {},
   "outputs": [],
   "source": [
    "l1.reverse()"
   ]
  },
  {
   "cell_type": "code",
   "execution_count": 82,
   "id": "f27396eb",
   "metadata": {},
   "outputs": [
    {
     "data": {
      "text/plain": [
       "[4, [2, 4], 'krishna', 59]"
      ]
     },
     "execution_count": 82,
     "metadata": {},
     "output_type": "execute_result"
    }
   ],
   "source": [
    "l1"
   ]
  },
  {
   "cell_type": "code",
   "execution_count": 83,
   "id": "85a7b815",
   "metadata": {},
   "outputs": [
    {
     "data": {
      "text/plain": [
       "[1,\n",
       " 345,\n",
       " 45,\n",
       " 'sudh',\n",
       " True,\n",
       " (5+7j),\n",
       " 345.456,\n",
       " 'krishna',\n",
       " 'pwskills',\n",
       " [4, [2, 4], 'krishna', 59],\n",
       " 's',\n",
       " 'u',\n",
       " 'd',\n",
       " 'h',\n",
       " 3,\n",
       " 4,\n",
       " 5]"
      ]
     },
     "execution_count": 83,
     "metadata": {},
     "output_type": "execute_result"
    }
   ],
   "source": [
    "l"
   ]
  },
  {
   "cell_type": "code",
   "execution_count": 84,
   "id": "62d24d68",
   "metadata": {},
   "outputs": [
    {
     "ename": "TypeError",
     "evalue": "'<' not supported between instances of 'list' and 'int'",
     "output_type": "error",
     "traceback": [
      "\u001b[1;31m---------------------------------------------------------------------------\u001b[0m",
      "\u001b[1;31mTypeError\u001b[0m                                 Traceback (most recent call last)",
      "Cell \u001b[1;32mIn [84], line 1\u001b[0m\n\u001b[1;32m----> 1\u001b[0m \u001b[43ml1\u001b[49m\u001b[38;5;241;43m.\u001b[39;49m\u001b[43msort\u001b[49m\u001b[43m(\u001b[49m\u001b[43m)\u001b[49m\n",
      "\u001b[1;31mTypeError\u001b[0m: '<' not supported between instances of 'list' and 'int'"
     ]
    }
   ],
   "source": [
    "l1.sort()"
   ]
  },
  {
   "cell_type": "code",
   "execution_count": 88,
   "id": "ccf023f3",
   "metadata": {},
   "outputs": [],
   "source": [
    "l2 = [10,12,43,4,5,6,7,8,9]"
   ]
  },
  {
   "cell_type": "code",
   "execution_count": 89,
   "id": "9de65487",
   "metadata": {},
   "outputs": [],
   "source": [
    "l2.sort()"
   ]
  },
  {
   "cell_type": "code",
   "execution_count": 90,
   "id": "e7648f14",
   "metadata": {},
   "outputs": [
    {
     "data": {
      "text/plain": [
       "[4, 5, 6, 7, 8, 9, 10, 12, 43]"
      ]
     },
     "execution_count": 90,
     "metadata": {},
     "output_type": "execute_result"
    }
   ],
   "source": [
    "l2"
   ]
  },
  {
   "cell_type": "code",
   "execution_count": 91,
   "id": "b8cc92c5",
   "metadata": {},
   "outputs": [],
   "source": [
    "l3 = [34,\"krishna\",45,12,\"dabhi\"]"
   ]
  },
  {
   "cell_type": "code",
   "execution_count": 92,
   "id": "024557e5",
   "metadata": {},
   "outputs": [
    {
     "ename": "TypeError",
     "evalue": "'<' not supported between instances of 'str' and 'int'",
     "output_type": "error",
     "traceback": [
      "\u001b[1;31m---------------------------------------------------------------------------\u001b[0m",
      "\u001b[1;31mTypeError\u001b[0m                                 Traceback (most recent call last)",
      "Cell \u001b[1;32mIn [92], line 1\u001b[0m\n\u001b[1;32m----> 1\u001b[0m \u001b[43ml3\u001b[49m\u001b[38;5;241;43m.\u001b[39;49m\u001b[43msort\u001b[49m\u001b[43m(\u001b[49m\u001b[43m)\u001b[49m\n",
      "\u001b[1;31mTypeError\u001b[0m: '<' not supported between instances of 'str' and 'int'"
     ]
    }
   ],
   "source": [
    "l3.sort()"
   ]
  },
  {
   "cell_type": "code",
   "execution_count": 93,
   "id": "9d51e25e",
   "metadata": {},
   "outputs": [],
   "source": [
    "l4 = [\"krishna\",\"dabhi\",\"pwskills\", \"data science\"]"
   ]
  },
  {
   "cell_type": "code",
   "execution_count": 94,
   "id": "ec96d2a0",
   "metadata": {},
   "outputs": [],
   "source": [
    "l4.sort()"
   ]
  },
  {
   "cell_type": "code",
   "execution_count": 95,
   "id": "2c0e1024",
   "metadata": {},
   "outputs": [
    {
     "data": {
      "text/plain": [
       "['dabhi', 'data science', 'krishna', 'pwskills']"
      ]
     },
     "execution_count": 95,
     "metadata": {},
     "output_type": "execute_result"
    }
   ],
   "source": [
    "l4"
   ]
  },
  {
   "cell_type": "code",
   "execution_count": 96,
   "id": "4f4e29dc",
   "metadata": {},
   "outputs": [],
   "source": [
    "l4.sort(reverse=True)"
   ]
  },
  {
   "cell_type": "code",
   "execution_count": 97,
   "id": "4d56362f",
   "metadata": {},
   "outputs": [
    {
     "data": {
      "text/plain": [
       "['pwskills', 'krishna', 'data science', 'dabhi']"
      ]
     },
     "execution_count": 97,
     "metadata": {},
     "output_type": "execute_result"
    }
   ],
   "source": [
    "l4"
   ]
  },
  {
   "cell_type": "code",
   "execution_count": 98,
   "id": "2f5ad31a",
   "metadata": {},
   "outputs": [
    {
     "ename": "TypeError",
     "evalue": "index expected at least 1 argument, got 0",
     "output_type": "error",
     "traceback": [
      "\u001b[1;31m---------------------------------------------------------------------------\u001b[0m",
      "\u001b[1;31mTypeError\u001b[0m                                 Traceback (most recent call last)",
      "Cell \u001b[1;32mIn [98], line 1\u001b[0m\n\u001b[1;32m----> 1\u001b[0m \u001b[43ml4\u001b[49m\u001b[38;5;241;43m.\u001b[39;49m\u001b[43mindex\u001b[49m\u001b[43m(\u001b[49m\u001b[43m)\u001b[49m\n",
      "\u001b[1;31mTypeError\u001b[0m: index expected at least 1 argument, got 0"
     ]
    }
   ],
   "source": [
    "l4.index()"
   ]
  },
  {
   "cell_type": "code",
   "execution_count": 99,
   "id": "40259deb",
   "metadata": {},
   "outputs": [
    {
     "data": {
      "text/plain": [
       "1"
      ]
     },
     "execution_count": 99,
     "metadata": {},
     "output_type": "execute_result"
    }
   ],
   "source": [
    "l4.index(\"krishna\")"
   ]
  },
  {
   "cell_type": "code",
   "execution_count": 100,
   "id": "b9425cc9",
   "metadata": {},
   "outputs": [
    {
     "data": {
      "text/plain": [
       "1"
      ]
     },
     "execution_count": 100,
     "metadata": {},
     "output_type": "execute_result"
    }
   ],
   "source": [
    "l4.count(\"krishna\")"
   ]
  },
  {
   "cell_type": "code",
   "execution_count": 101,
   "id": "49aeb63b",
   "metadata": {},
   "outputs": [
    {
     "data": {
      "text/plain": [
       "['pwskills', 'krishna', 'data science', 'dabhi']"
      ]
     },
     "execution_count": 101,
     "metadata": {},
     "output_type": "execute_result"
    }
   ],
   "source": [
    "l4"
   ]
  },
  {
   "cell_type": "code",
   "execution_count": 102,
   "id": "5d732d87",
   "metadata": {},
   "outputs": [],
   "source": [
    "s = \"krishna\""
   ]
  },
  {
   "cell_type": "code",
   "execution_count": 103,
   "id": "16c5e87a",
   "metadata": {},
   "outputs": [],
   "source": [
    "l5 = [3,4,5,6]"
   ]
  },
  {
   "cell_type": "code",
   "execution_count": 104,
   "id": "01fa9f67",
   "metadata": {},
   "outputs": [
    {
     "data": {
      "text/plain": [
       "'k'"
      ]
     },
     "execution_count": 104,
     "metadata": {},
     "output_type": "execute_result"
    }
   ],
   "source": [
    "s[0]"
   ]
  },
  {
   "cell_type": "code",
   "execution_count": 105,
   "id": "a87eddc4",
   "metadata": {},
   "outputs": [
    {
     "ename": "TypeError",
     "evalue": "'str' object does not support item assignment",
     "output_type": "error",
     "traceback": [
      "\u001b[1;31m---------------------------------------------------------------------------\u001b[0m",
      "\u001b[1;31mTypeError\u001b[0m                                 Traceback (most recent call last)",
      "Cell \u001b[1;32mIn [105], line 1\u001b[0m\n\u001b[1;32m----> 1\u001b[0m \u001b[43ms\u001b[49m\u001b[43m[\u001b[49m\u001b[38;5;241;43m0\u001b[39;49m\u001b[43m]\u001b[49m \u001b[38;5;241m=\u001b[39m \u001b[38;5;124m'\u001b[39m\u001b[38;5;124ma\u001b[39m\u001b[38;5;124m'\u001b[39m\n",
      "\u001b[1;31mTypeError\u001b[0m: 'str' object does not support item assignment"
     ]
    }
   ],
   "source": [
    "s[0] = 'a'"
   ]
  },
  {
   "cell_type": "code",
   "execution_count": 106,
   "id": "22616d19",
   "metadata": {},
   "outputs": [
    {
     "data": {
      "text/plain": [
       "3"
      ]
     },
     "execution_count": 106,
     "metadata": {},
     "output_type": "execute_result"
    }
   ],
   "source": [
    "l5[0]"
   ]
  },
  {
   "cell_type": "code",
   "execution_count": 107,
   "id": "aa3833b3",
   "metadata": {},
   "outputs": [],
   "source": [
    "l5[0] = 30"
   ]
  },
  {
   "cell_type": "code",
   "execution_count": 108,
   "id": "b775575d",
   "metadata": {},
   "outputs": [
    {
     "data": {
      "text/plain": [
       "[30, 4, 5, 6]"
      ]
     },
     "execution_count": 108,
     "metadata": {},
     "output_type": "execute_result"
    }
   ],
   "source": [
    "l5"
   ]
  },
  {
   "cell_type": "code",
   "execution_count": 109,
   "id": "2178bd9b",
   "metadata": {},
   "outputs": [
    {
     "data": {
      "text/plain": [
       "'drishna'"
      ]
     },
     "execution_count": 109,
     "metadata": {},
     "output_type": "execute_result"
    }
   ],
   "source": [
    "s.replace('k','d')"
   ]
  },
  {
   "cell_type": "code",
   "execution_count": 110,
   "id": "e8266165",
   "metadata": {},
   "outputs": [
    {
     "data": {
      "text/plain": [
       "'krishna'"
      ]
     },
     "execution_count": 110,
     "metadata": {},
     "output_type": "execute_result"
    }
   ],
   "source": [
    "s"
   ]
  },
  {
   "cell_type": "code",
   "execution_count": 112,
   "id": "10b939b7",
   "metadata": {},
   "outputs": [],
   "source": [
    "t = (2,3,4,5,\"krishna\", 45.67, False,4+2j,[3,4,5])"
   ]
  },
  {
   "cell_type": "code",
   "execution_count": null,
   "id": "380e671a",
   "metadata": {},
   "outputs": [],
   "source": []
  },
  {
   "cell_type": "code",
   "execution_count": 113,
   "id": "97d0b758",
   "metadata": {},
   "outputs": [
    {
     "data": {
      "text/plain": [
       "(2, 3, 4, 5, 'krishna', 45.67, False, (4+2j), [3, 4, 5])"
      ]
     },
     "execution_count": 113,
     "metadata": {},
     "output_type": "execute_result"
    }
   ],
   "source": [
    "t"
   ]
  },
  {
   "cell_type": "code",
   "execution_count": 114,
   "id": "e7e00326",
   "metadata": {},
   "outputs": [
    {
     "data": {
      "text/plain": [
       "tuple"
      ]
     },
     "execution_count": 114,
     "metadata": {},
     "output_type": "execute_result"
    }
   ],
   "source": [
    "type(t)"
   ]
  },
  {
   "cell_type": "code",
   "execution_count": 115,
   "id": "e60b59b9",
   "metadata": {},
   "outputs": [
    {
     "data": {
      "text/plain": [
       "9"
      ]
     },
     "execution_count": 115,
     "metadata": {},
     "output_type": "execute_result"
    }
   ],
   "source": [
    "len(t)"
   ]
  },
  {
   "cell_type": "code",
   "execution_count": 116,
   "id": "f5a6344b",
   "metadata": {},
   "outputs": [
    {
     "data": {
      "text/plain": [
       "2"
      ]
     },
     "execution_count": 116,
     "metadata": {},
     "output_type": "execute_result"
    }
   ],
   "source": [
    "t[0]"
   ]
  },
  {
   "cell_type": "code",
   "execution_count": 117,
   "id": "4f4a97af",
   "metadata": {},
   "outputs": [
    {
     "data": {
      "text/plain": [
       "(2, 3, 4, 5, 'krishna', 45.67, False, (4+2j), [3, 4, 5])"
      ]
     },
     "execution_count": 117,
     "metadata": {},
     "output_type": "execute_result"
    }
   ],
   "source": [
    "t"
   ]
  },
  {
   "cell_type": "code",
   "execution_count": 118,
   "id": "aed5a87d",
   "metadata": {},
   "outputs": [
    {
     "data": {
      "text/plain": [
       "[3, 4, 5]"
      ]
     },
     "execution_count": 118,
     "metadata": {},
     "output_type": "execute_result"
    }
   ],
   "source": [
    "t[-1]"
   ]
  },
  {
   "cell_type": "code",
   "execution_count": 119,
   "id": "e8e2ae7d",
   "metadata": {},
   "outputs": [
    {
     "data": {
      "text/plain": [
       "([3, 4, 5], (4+2j), False, 45.67, 'krishna', 5, 4, 3, 2)"
      ]
     },
     "execution_count": 119,
     "metadata": {},
     "output_type": "execute_result"
    }
   ],
   "source": [
    "t[::-1]"
   ]
  },
  {
   "cell_type": "code",
   "execution_count": 120,
   "id": "9cbbc492",
   "metadata": {},
   "outputs": [
    {
     "data": {
      "text/plain": [
       "['pwskills', 'krishna', 'data science', 'dabhi']"
      ]
     },
     "execution_count": 120,
     "metadata": {},
     "output_type": "execute_result"
    }
   ],
   "source": [
    "l4"
   ]
  },
  {
   "cell_type": "code",
   "execution_count": 122,
   "id": "c46ef8ba",
   "metadata": {},
   "outputs": [],
   "source": [
    "l4[0] = 2154"
   ]
  },
  {
   "cell_type": "markdown",
   "id": "5a1002ee",
   "metadata": {},
   "source": [
    "#### "
   ]
  },
  {
   "cell_type": "code",
   "execution_count": 123,
   "id": "2ceed92b",
   "metadata": {},
   "outputs": [
    {
     "data": {
      "text/plain": [
       "[2154, 'krishna', 'data science', 'dabhi']"
      ]
     },
     "execution_count": 123,
     "metadata": {},
     "output_type": "execute_result"
    }
   ],
   "source": [
    "l4"
   ]
  },
  {
   "cell_type": "code",
   "execution_count": 124,
   "id": "ca3e99b3",
   "metadata": {},
   "outputs": [
    {
     "data": {
      "text/plain": [
       "(2, 3, 4, 5, 'krishna', 45.67, False, (4+2j), [3, 4, 5])"
      ]
     },
     "execution_count": 124,
     "metadata": {},
     "output_type": "execute_result"
    }
   ],
   "source": [
    "t"
   ]
  },
  {
   "cell_type": "code",
   "execution_count": 125,
   "id": "ea774ba2",
   "metadata": {},
   "outputs": [
    {
     "ename": "TypeError",
     "evalue": "'tuple' object does not support item assignment",
     "output_type": "error",
     "traceback": [
      "\u001b[1;31m---------------------------------------------------------------------------\u001b[0m",
      "\u001b[1;31mTypeError\u001b[0m                                 Traceback (most recent call last)",
      "Cell \u001b[1;32mIn [125], line 1\u001b[0m\n\u001b[1;32m----> 1\u001b[0m \u001b[43mt\u001b[49m\u001b[43m[\u001b[49m\u001b[38;5;241;43m0\u001b[39;49m\u001b[43m]\u001b[49m \u001b[38;5;241m=\u001b[39m \u001b[38;5;124m\"\u001b[39m\u001b[38;5;124mkrishna\u001b[39m\u001b[38;5;124m\"\u001b[39m\n",
      "\u001b[1;31mTypeError\u001b[0m: 'tuple' object does not support item assignment"
     ]
    }
   ],
   "source": [
    "t[0] = \"krishna\""
   ]
  },
  {
   "cell_type": "code",
   "execution_count": 126,
   "id": "93984bbe",
   "metadata": {},
   "outputs": [
    {
     "data": {
      "text/plain": [
       "([3, 4, 5], (4+2j), False, 45.67, 'krishna', 5, 4, 3, 2)"
      ]
     },
     "execution_count": 126,
     "metadata": {},
     "output_type": "execute_result"
    }
   ],
   "source": [
    " t[::-1]"
   ]
  },
  {
   "cell_type": "code",
   "execution_count": 127,
   "id": "5fe4161f",
   "metadata": {},
   "outputs": [
    {
     "data": {
      "text/plain": [
       "(2, 3, 4, 5, 'krishna', 45.67, False, (4+2j), [3, 4, 5])"
      ]
     },
     "execution_count": 127,
     "metadata": {},
     "output_type": "execute_result"
    }
   ],
   "source": [
    "t"
   ]
  },
  {
   "cell_type": "code",
   "execution_count": 128,
   "id": "bae4c5b4",
   "metadata": {},
   "outputs": [
    {
     "data": {
      "text/plain": [
       "1"
      ]
     },
     "execution_count": 128,
     "metadata": {},
     "output_type": "execute_result"
    }
   ],
   "source": [
    "t.count(4)"
   ]
  },
  {
   "cell_type": "code",
   "execution_count": 129,
   "id": "56bd6ac5",
   "metadata": {},
   "outputs": [
    {
     "data": {
      "text/plain": [
       "2"
      ]
     },
     "execution_count": 129,
     "metadata": {},
     "output_type": "execute_result"
    }
   ],
   "source": [
    "t.index(4)"
   ]
  },
  {
   "cell_type": "code",
   "execution_count": 130,
   "id": "247167b7",
   "metadata": {},
   "outputs": [
    {
     "data": {
      "text/plain": [
       "4"
      ]
     },
     "execution_count": 130,
     "metadata": {},
     "output_type": "execute_result"
    }
   ],
   "source": [
    "t.index(\"krishna\")"
   ]
  },
  {
   "cell_type": "code",
   "execution_count": 131,
   "id": "10f585bb",
   "metadata": {},
   "outputs": [],
   "source": [
    "s1 = {} "
   ]
  },
  {
   "cell_type": "code",
   "execution_count": 132,
   "id": "b45e8d22",
   "metadata": {},
   "outputs": [
    {
     "data": {
      "text/plain": [
       "dict"
      ]
     },
     "execution_count": 132,
     "metadata": {},
     "output_type": "execute_result"
    }
   ],
   "source": [
    "type(s1)"
   ]
  },
  {
   "cell_type": "code",
   "execution_count": 133,
   "id": "8f9d74d1",
   "metadata": {},
   "outputs": [],
   "source": [
    "s2 = {2,3,4,55,6}"
   ]
  },
  {
   "cell_type": "code",
   "execution_count": 135,
   "id": "f9452b69",
   "metadata": {},
   "outputs": [
    {
     "data": {
      "text/plain": [
       "set"
      ]
     },
     "execution_count": 135,
     "metadata": {},
     "output_type": "execute_result"
    }
   ],
   "source": [
    "type(s2)"
   ]
  },
  {
   "cell_type": "code",
   "execution_count": 137,
   "id": "3e7f3ee7",
   "metadata": {},
   "outputs": [],
   "source": [
    "s3 = {324,456,432,\"krishna\",45+7j,432.65,(2,3,4)}"
   ]
  },
  {
   "cell_type": "code",
   "execution_count": 138,
   "id": "8bedf39f",
   "metadata": {},
   "outputs": [
    {
     "data": {
      "text/plain": [
       "{(2, 3, 4), (45+7j), 324, 432, 432.65, 456, 'krishna'}"
      ]
     },
     "execution_count": 138,
     "metadata": {},
     "output_type": "execute_result"
    }
   ],
   "source": [
    "s3"
   ]
  },
  {
   "cell_type": "code",
   "execution_count": 141,
   "id": "fd3fade8",
   "metadata": {},
   "outputs": [],
   "source": [
    "s4 = {2,4,6,3,6,3,6,1,5,6,5,7,6,7,8,9,8,6,4,\"krishna\",'krishna'}"
   ]
  },
  {
   "cell_type": "code",
   "execution_count": 142,
   "id": "3a011680",
   "metadata": {},
   "outputs": [
    {
     "data": {
      "text/plain": [
       "{1, 2, 3, 4, 5, 6, 7, 8, 9, 'krishna'}"
      ]
     },
     "execution_count": 142,
     "metadata": {},
     "output_type": "execute_result"
    }
   ],
   "source": [
    "s4"
   ]
  },
  {
   "cell_type": "code",
   "execution_count": 146,
   "id": "9d87afc6",
   "metadata": {},
   "outputs": [],
   "source": [
    "l6 = [2,4,6,3,6,3,6,1,5,6,5,7,6,7,8,9,8,6,4,\"krishna\",'krishna']"
   ]
  },
  {
   "cell_type": "code",
   "execution_count": 144,
   "id": "b50091c2",
   "metadata": {},
   "outputs": [],
   "source": [
    "l6 = set(l6)"
   ]
  },
  {
   "cell_type": "code",
   "execution_count": 145,
   "id": "73658d60",
   "metadata": {},
   "outputs": [
    {
     "data": {
      "text/plain": [
       "{1, 2, 3, 4, 5, 6, 7, 8, 9, 'krishna'}"
      ]
     },
     "execution_count": 145,
     "metadata": {},
     "output_type": "execute_result"
    }
   ],
   "source": [
    "l6"
   ]
  },
  {
   "cell_type": "code",
   "execution_count": 147,
   "id": "8b0192bb",
   "metadata": {},
   "outputs": [],
   "source": [
    "s5 = {234,543,5546,746,46,356,75,86,\"abc\",244,46,366}"
   ]
  },
  {
   "cell_type": "code",
   "execution_count": 148,
   "id": "4371d82e",
   "metadata": {},
   "outputs": [
    {
     "data": {
      "text/plain": [
       "{234, 244, 356, 366, 46, 543, 5546, 746, 75, 86, 'abc'}"
      ]
     },
     "execution_count": 148,
     "metadata": {},
     "output_type": "execute_result"
    }
   ],
   "source": [
    "s5"
   ]
  },
  {
   "cell_type": "code",
   "execution_count": 149,
   "id": "8fc956f8",
   "metadata": {},
   "outputs": [
    {
     "data": {
      "text/plain": [
       "{234, 244, 356, 366, 46, 543, 5546, 746, 75, 86, 'abc'}"
      ]
     },
     "execution_count": 149,
     "metadata": {},
     "output_type": "execute_result"
    }
   ],
   "source": [
    "s5"
   ]
  },
  {
   "cell_type": "code",
   "execution_count": 150,
   "id": "65186f5e",
   "metadata": {},
   "outputs": [
    {
     "ename": "TypeError",
     "evalue": "'set' object is not subscriptable",
     "output_type": "error",
     "traceback": [
      "\u001b[1;31m---------------------------------------------------------------------------\u001b[0m",
      "\u001b[1;31mTypeError\u001b[0m                                 Traceback (most recent call last)",
      "Cell \u001b[1;32mIn [150], line 1\u001b[0m\n\u001b[1;32m----> 1\u001b[0m \u001b[43ms5\u001b[49m\u001b[43m[\u001b[49m\u001b[38;5;241;43m0\u001b[39;49m\u001b[43m]\u001b[49m\n",
      "\u001b[1;31mTypeError\u001b[0m: 'set' object is not subscriptable"
     ]
    }
   ],
   "source": [
    "s5[0]"
   ]
  },
  {
   "cell_type": "code",
   "execution_count": 151,
   "id": "b7a1956b",
   "metadata": {},
   "outputs": [
    {
     "ename": "TypeError",
     "evalue": "'set' object is not subscriptable",
     "output_type": "error",
     "traceback": [
      "\u001b[1;31m---------------------------------------------------------------------------\u001b[0m",
      "\u001b[1;31mTypeError\u001b[0m                                 Traceback (most recent call last)",
      "Cell \u001b[1;32mIn [151], line 1\u001b[0m\n\u001b[1;32m----> 1\u001b[0m \u001b[43ms5\u001b[49m\u001b[43m[\u001b[49m\u001b[43m:\u001b[49m\u001b[43m:\u001b[49m\u001b[38;5;241;43m-\u001b[39;49m\u001b[38;5;241;43m1\u001b[39;49m\u001b[43m]\u001b[49m\n",
      "\u001b[1;31mTypeError\u001b[0m: 'set' object is not subscriptable"
     ]
    }
   ],
   "source": [
    "s5[::-1]"
   ]
  },
  {
   "cell_type": "code",
   "execution_count": 152,
   "id": "94927ed7",
   "metadata": {},
   "outputs": [
    {
     "data": {
      "text/plain": [
       "{234, 244, 356, 366, 46, 543, 5546, 746, 75, 86, 'abc'}"
      ]
     },
     "execution_count": 152,
     "metadata": {},
     "output_type": "execute_result"
    }
   ],
   "source": [
    "s5"
   ]
  },
  {
   "cell_type": "code",
   "execution_count": 153,
   "id": "e4312a95",
   "metadata": {},
   "outputs": [],
   "source": [
    "s5.add(4)"
   ]
  },
  {
   "cell_type": "code",
   "execution_count": 154,
   "id": "dc6712da",
   "metadata": {},
   "outputs": [
    {
     "data": {
      "text/plain": [
       "{1, 2, 3, 4, 5, 6, 7, 8, 9, 'krishna'}"
      ]
     },
     "execution_count": 154,
     "metadata": {},
     "output_type": "execute_result"
    }
   ],
   "source": [
    "s4"
   ]
  },
  {
   "cell_type": "code",
   "execution_count": 155,
   "id": "2dfadf31",
   "metadata": {},
   "outputs": [
    {
     "data": {
      "text/plain": [
       "{234, 244, 356, 366, 4, 46, 543, 5546, 746, 75, 86, 'abc'}"
      ]
     },
     "execution_count": 155,
     "metadata": {},
     "output_type": "execute_result"
    }
   ],
   "source": [
    "s5"
   ]
  },
  {
   "cell_type": "code",
   "execution_count": 156,
   "id": "caf763b1",
   "metadata": {},
   "outputs": [
    {
     "ename": "TypeError",
     "evalue": "set.remove() takes exactly one argument (0 given)",
     "output_type": "error",
     "traceback": [
      "\u001b[1;31m---------------------------------------------------------------------------\u001b[0m",
      "\u001b[1;31mTypeError\u001b[0m                                 Traceback (most recent call last)",
      "Cell \u001b[1;32mIn [156], line 1\u001b[0m\n\u001b[1;32m----> 1\u001b[0m \u001b[43ms5\u001b[49m\u001b[38;5;241;43m.\u001b[39;49m\u001b[43mremove\u001b[49m\u001b[43m(\u001b[49m\u001b[43m)\u001b[49m\n",
      "\u001b[1;31mTypeError\u001b[0m: set.remove() takes exactly one argument (0 given)"
     ]
    }
   ],
   "source": [
    "s5.remove()"
   ]
  },
  {
   "cell_type": "code",
   "execution_count": 158,
   "id": "6ba23cd9",
   "metadata": {},
   "outputs": [],
   "source": [
    "s5.remove(4)"
   ]
  },
  {
   "cell_type": "markdown",
   "id": "b3604633",
   "metadata": {},
   "source": [
    "s5"
   ]
  },
  {
   "cell_type": "code",
   "execution_count": 159,
   "id": "83ea28c6",
   "metadata": {},
   "outputs": [
    {
     "data": {
      "text/plain": [
       "{234, 244, 356, 366, 46, 543, 5546, 746, 75, 86, 'abc'}"
      ]
     },
     "execution_count": 159,
     "metadata": {},
     "output_type": "execute_result"
    }
   ],
   "source": [
    "s5"
   ]
  },
  {
   "cell_type": "code",
   "execution_count": 1,
   "id": "82803900",
   "metadata": {},
   "outputs": [],
   "source": [
    "d = {}"
   ]
  },
  {
   "cell_type": "code",
   "execution_count": 2,
   "id": "217da6ba",
   "metadata": {},
   "outputs": [
    {
     "data": {
      "text/plain": [
       "dict"
      ]
     },
     "execution_count": 2,
     "metadata": {},
     "output_type": "execute_result"
    }
   ],
   "source": [
    "type(d)"
   ]
  },
  {
   "cell_type": "code",
   "execution_count": 3,
   "id": "24cd9ae8",
   "metadata": {},
   "outputs": [],
   "source": [
    "d1 = {'key' :\"krishna\"}"
   ]
  },
  {
   "cell_type": "code",
   "execution_count": 4,
   "id": "1b63db25",
   "metadata": {},
   "outputs": [
    {
     "data": {
      "text/plain": [
       "dict"
      ]
     },
     "execution_count": 4,
     "metadata": {},
     "output_type": "execute_result"
    }
   ],
   "source": [
    "type(d1)"
   ]
  },
  {
   "cell_type": "code",
   "execution_count": 5,
   "id": "46a7051a",
   "metadata": {},
   "outputs": [
    {
     "data": {
      "text/plain": [
       "{'key': 'krishna'}"
      ]
     },
     "execution_count": 5,
     "metadata": {},
     "output_type": "execute_result"
    }
   ],
   "source": [
    "d1"
   ]
  },
  {
   "cell_type": "code",
   "execution_count": 6,
   "id": "81cf34e0",
   "metadata": {},
   "outputs": [],
   "source": [
    "d2 = {'name':\"krishna\", 'email':\"krishna@gmail.com\",'no':\"1857414232\"}"
   ]
  },
  {
   "cell_type": "code",
   "execution_count": 7,
   "id": "dcccec8e",
   "metadata": {},
   "outputs": [
    {
     "data": {
      "text/plain": [
       "{'name': 'krishna', 'email': 'krishna@gmail.com', 'no': '1857414232'}"
      ]
     },
     "execution_count": 7,
     "metadata": {},
     "output_type": "execute_result"
    }
   ],
   "source": [
    "d2"
   ]
  },
  {
   "cell_type": "code",
   "execution_count": 13,
   "id": "e49aa114",
   "metadata": {},
   "outputs": [],
   "source": [
    "d3 = {243:\"krishna\" , 'com':\"dabhi\",True:\"pwskills\"}"
   ]
  },
  {
   "cell_type": "code",
   "execution_count": 14,
   "id": "cd73282d",
   "metadata": {},
   "outputs": [
    {
     "data": {
      "text/plain": [
       "{243: 'krishna', 'com': 'dabhi', True: 'pwskills'}"
      ]
     },
     "execution_count": 14,
     "metadata": {},
     "output_type": "execute_result"
    }
   ],
   "source": [
    "d3"
   ]
  },
  {
   "cell_type": "code",
   "execution_count": 15,
   "id": "43577f8d",
   "metadata": {},
   "outputs": [
    {
     "data": {
      "text/plain": [
       "'krishna'"
      ]
     },
     "execution_count": 15,
     "metadata": {},
     "output_type": "execute_result"
    }
   ],
   "source": [
    "d3[243]"
   ]
  },
  {
   "cell_type": "code",
   "execution_count": 16,
   "id": "3a589f32",
   "metadata": {},
   "outputs": [
    {
     "data": {
      "text/plain": [
       "'dabhi'"
      ]
     },
     "execution_count": 16,
     "metadata": {},
     "output_type": "execute_result"
    }
   ],
   "source": [
    "d3['com']"
   ]
  },
  {
   "cell_type": "code",
   "execution_count": 17,
   "id": "baa00a27",
   "metadata": {},
   "outputs": [
    {
     "data": {
      "text/plain": [
       "'pwskills'"
      ]
     },
     "execution_count": 17,
     "metadata": {},
     "output_type": "execute_result"
    }
   ],
   "source": [
    "d3[1]"
   ]
  },
  {
   "cell_type": "code",
   "execution_count": 19,
   "id": "b4082331",
   "metadata": {},
   "outputs": [],
   "source": [
    "d4 = {'name':\"krishna\",'mail':\"kd@mail.com\",\"name\":\"kishna\"}"
   ]
  },
  {
   "cell_type": "code",
   "execution_count": 20,
   "id": "61daec24",
   "metadata": {},
   "outputs": [
    {
     "data": {
      "text/plain": [
       "{'name': 'kishna', 'mail': 'kd@mail.com'}"
      ]
     },
     "execution_count": 20,
     "metadata": {},
     "output_type": "execute_result"
    }
   ],
   "source": [
    "d4"
   ]
  },
  {
   "cell_type": "code",
   "execution_count": 21,
   "id": "8bee10d5",
   "metadata": {},
   "outputs": [
    {
     "data": {
      "text/plain": [
       "'kishna'"
      ]
     },
     "execution_count": 21,
     "metadata": {},
     "output_type": "execute_result"
    }
   ],
   "source": [
    "d4['name']"
   ]
  },
  {
   "cell_type": "code",
   "execution_count": 22,
   "id": "39b5f99a",
   "metadata": {},
   "outputs": [],
   "source": [
    "#last value ne override karashe"
   ]
  },
  {
   "cell_type": "code",
   "execution_count": 23,
   "id": "2e06943b",
   "metadata": {},
   "outputs": [],
   "source": [
    "d5 = {\"company\":\"pwskills\", \"course\":[\"web dev\",\"dat science\", \"java\"]}"
   ]
  },
  {
   "cell_type": "code",
   "execution_count": 24,
   "id": "35e8223a",
   "metadata": {},
   "outputs": [
    {
     "data": {
      "text/plain": [
       "{'company': 'pwskills', 'course': ['web dev', 'dat science', 'java']}"
      ]
     },
     "execution_count": 24,
     "metadata": {},
     "output_type": "execute_result"
    }
   ],
   "source": [
    "d5"
   ]
  },
  {
   "cell_type": "code",
   "execution_count": 25,
   "id": "a3b20714",
   "metadata": {},
   "outputs": [
    {
     "data": {
      "text/plain": [
       "['web dev', 'dat science', 'java']"
      ]
     },
     "execution_count": 25,
     "metadata": {},
     "output_type": "execute_result"
    }
   ],
   "source": [
    "d5['course']"
   ]
  },
  {
   "cell_type": "code",
   "execution_count": 26,
   "id": "1224bf39",
   "metadata": {},
   "outputs": [
    {
     "data": {
      "text/plain": [
       "'dat science'"
      ]
     },
     "execution_count": 26,
     "metadata": {},
     "output_type": "execute_result"
    }
   ],
   "source": [
    "d5['course'][1]"
   ]
  },
  {
   "cell_type": "code",
   "execution_count": 7,
   "id": "9e8ea8a6",
   "metadata": {},
   "outputs": [],
   "source": [
    "d6 = {\"no\":[12,34,54,35,65], \"assignment\":(1,2,3,4,5,6),\"launch_date\":{28,12,24},\"class_time\":{\"web_dev\":8,\"data science\":12,\"java\":7}}"
   ]
  },
  {
   "cell_type": "code",
   "execution_count": 31,
   "id": "1b470a46",
   "metadata": {},
   "outputs": [
    {
     "data": {
      "text/plain": [
       "{'no': [12, 34, 54, 35, 65],\n",
       " 'assignment': (1, 2, 3, 4, 5, 6),\n",
       " 'launch_date': {12, 24, 28},\n",
       " 'class_time': {'web_dev': 8, 'data science': 12, 'java': 7}}"
      ]
     },
     "execution_count": 31,
     "metadata": {},
     "output_type": "execute_result"
    }
   ],
   "source": [
    "d6"
   ]
  },
  {
   "cell_type": "code",
   "execution_count": 32,
   "id": "cb1ba8ec",
   "metadata": {},
   "outputs": [
    {
     "data": {
      "text/plain": [
       "7"
      ]
     },
     "execution_count": 32,
     "metadata": {},
     "output_type": "execute_result"
    }
   ],
   "source": [
    "d6['class_time']['java']"
   ]
  },
  {
   "cell_type": "code",
   "execution_count": 33,
   "id": "d114a59b",
   "metadata": {},
   "outputs": [
    {
     "data": {
      "text/plain": [
       "{'no': [12, 34, 54, 35, 65],\n",
       " 'assignment': (1, 2, 3, 4, 5, 6),\n",
       " 'launch_date': {12, 24, 28},\n",
       " 'class_time': {'web_dev': 8, 'data science': 12, 'java': 7}}"
      ]
     },
     "execution_count": 33,
     "metadata": {},
     "output_type": "execute_result"
    }
   ],
   "source": [
    "d6"
   ]
  },
  {
   "cell_type": "code",
   "execution_count": 34,
   "id": "b13fe792",
   "metadata": {},
   "outputs": [],
   "source": [
    "d6['mentor'] = ['sid','krish','adi']"
   ]
  },
  {
   "cell_type": "code",
   "execution_count": 35,
   "id": "a85aa82e",
   "metadata": {},
   "outputs": [
    {
     "data": {
      "text/plain": [
       "{'no': [12, 34, 54, 35, 65],\n",
       " 'assignment': (1, 2, 3, 4, 5, 6),\n",
       " 'launch_date': {12, 24, 28},\n",
       " 'class_time': {'web_dev': 8, 'data science': 12, 'java': 7},\n",
       " 'mentor': ['sid', 'krish', 'adi']}"
      ]
     },
     "execution_count": 35,
     "metadata": {},
     "output_type": "execute_result"
    }
   ],
   "source": [
    "d6"
   ]
  },
  {
   "cell_type": "code",
   "execution_count": 38,
   "id": "7441fdf3",
   "metadata": {},
   "outputs": [
    {
     "ename": "KeyError",
     "evalue": "'no'",
     "output_type": "error",
     "traceback": [
      "\u001b[1;31m---------------------------------------------------------------------------\u001b[0m",
      "\u001b[1;31mKeyError\u001b[0m                                  Traceback (most recent call last)",
      "Cell \u001b[1;32mIn [38], line 1\u001b[0m\n\u001b[1;32m----> 1\u001b[0m \u001b[38;5;28;01mdel\u001b[39;00m d6[\u001b[38;5;124m'\u001b[39m\u001b[38;5;124mno\u001b[39m\u001b[38;5;124m'\u001b[39m]\n",
      "\u001b[1;31mKeyError\u001b[0m: 'no'"
     ]
    }
   ],
   "source": [
    "del d6['no']"
   ]
  },
  {
   "cell_type": "markdown",
   "id": "9db05f9e",
   "metadata": {},
   "source": []
  },
  {
   "cell_type": "code",
   "execution_count": 39,
   "id": "dc0babd1",
   "metadata": {},
   "outputs": [
    {
     "data": {
      "text/plain": [
       "{'assignment': (1, 2, 3, 4, 5, 6),\n",
       " 'launch_date': {12, 24, 28},\n",
       " 'class_time': {'web_dev': 8, 'data science': 12, 'java': 7},\n",
       " 'mentor': ['sid', 'krish', 'adi']}"
      ]
     },
     "execution_count": 39,
     "metadata": {},
     "output_type": "execute_result"
    }
   ],
   "source": [
    "d6"
   ]
  },
  {
   "cell_type": "code",
   "execution_count": 41,
   "id": "77df7853",
   "metadata": {},
   "outputs": [
    {
     "data": {
      "text/plain": [
       "['assignment', 'launch_date', 'class_time', 'mentor']"
      ]
     },
     "execution_count": 41,
     "metadata": {},
     "output_type": "execute_result"
    }
   ],
   "source": [
    "list(d6.keys())"
   ]
  },
  {
   "cell_type": "code",
   "execution_count": 42,
   "id": "1a7cb685",
   "metadata": {},
   "outputs": [
    {
     "data": {
      "text/plain": [
       "dict_values([(1, 2, 3, 4, 5, 6), {24, 28, 12}, {'web_dev': 8, 'data science': 12, 'java': 7}, ['sid', 'krish', 'adi']])"
      ]
     },
     "execution_count": 42,
     "metadata": {},
     "output_type": "execute_result"
    }
   ],
   "source": [
    "d6.values()"
   ]
  },
  {
   "cell_type": "code",
   "execution_count": 43,
   "id": "e05000d3",
   "metadata": {},
   "outputs": [
    {
     "data": {
      "text/plain": [
       "[(1, 2, 3, 4, 5, 6),\n",
       " {12, 24, 28},\n",
       " {'web_dev': 8, 'data science': 12, 'java': 7},\n",
       " ['sid', 'krish', 'adi']]"
      ]
     },
     "execution_count": 43,
     "metadata": {},
     "output_type": "execute_result"
    }
   ],
   "source": [
    "list(d6.values())"
   ]
  },
  {
   "cell_type": "code",
   "execution_count": 44,
   "id": "9ac6ec36",
   "metadata": {},
   "outputs": [
    {
     "data": {
      "text/plain": [
       "dict_items([('assignment', (1, 2, 3, 4, 5, 6)), ('launch_date', {24, 28, 12}), ('class_time', {'web_dev': 8, 'data science': 12, 'java': 7}), ('mentor', ['sid', 'krish', 'adi'])])"
      ]
     },
     "execution_count": 44,
     "metadata": {},
     "output_type": "execute_result"
    }
   ],
   "source": [
    "d6.items()"
   ]
  },
  {
   "cell_type": "code",
   "execution_count": 45,
   "id": "c33cfa97",
   "metadata": {},
   "outputs": [
    {
     "data": {
      "text/plain": [
       "[('assignment', (1, 2, 3, 4, 5, 6)),\n",
       " ('launch_date', {12, 24, 28}),\n",
       " ('class_time', {'web_dev': 8, 'data science': 12, 'java': 7}),\n",
       " ('mentor', ['sid', 'krish', 'adi'])]"
      ]
     },
     "execution_count": 45,
     "metadata": {},
     "output_type": "execute_result"
    }
   ],
   "source": [
    "list(d6.items())"
   ]
  },
  {
   "cell_type": "code",
   "execution_count": 46,
   "id": "39ab8352",
   "metadata": {},
   "outputs": [
    {
     "data": {
      "text/plain": [
       "['sid', 'krish', 'adi']"
      ]
     },
     "execution_count": 46,
     "metadata": {},
     "output_type": "execute_result"
    }
   ],
   "source": [
    "d6.pop('mentor')"
   ]
  },
  {
   "cell_type": "code",
   "execution_count": 1,
   "id": "433a252f",
   "metadata": {},
   "outputs": [
    {
     "name": "stdout",
     "output_type": "stream",
     "text": [
      "   no.      name  gender  os\n",
      "0    1   krishna  female  98\n",
      "1    2   namitha  female  89\n",
      "2    3     komal  female  87\n",
      "3    4    rutvik    male  80\n",
      "4    5    rushik    male  86\n",
      "5    6     arjun    male  90\n",
      "6    7  abhishek    male  89\n",
      "7    8    manali  female  80\n",
      "8    9      isha  female  90\n",
      "9   10     hasti  female  85\n"
     ]
    }
   ],
   "source": [
    "import pandas as pd\n",
    "import numpy as np\n",
    "df = pd.read_csv(\"data.csv\")\n",
    "print(df)"
   ]
  },
  {
   "cell_type": "code",
   "execution_count": 1,
   "id": "d3fb190e",
   "metadata": {},
   "outputs": [
    {
     "ename": "SyntaxError",
     "evalue": "invalid syntax (901812246.py, line 1)",
     "output_type": "error",
     "traceback": [
      "\u001b[1;36m  Cell \u001b[1;32mIn [1], line 1\u001b[1;36m\u001b[0m\n\u001b[1;33m    del d6[]\u001b[0m\n\u001b[1;37m           ^\u001b[0m\n\u001b[1;31mSyntaxError\u001b[0m\u001b[1;31m:\u001b[0m invalid syntax\n"
     ]
    }
   ],
   "source": [
    "del d6[]"
   ]
  },
  {
   "cell_type": "code",
   "execution_count": 2,
   "id": "4ccb004f",
   "metadata": {},
   "outputs": [
    {
     "ename": "NameError",
     "evalue": "name 'd6' is not defined",
     "output_type": "error",
     "traceback": [
      "\u001b[1;31m---------------------------------------------------------------------------\u001b[0m",
      "\u001b[1;31mNameError\u001b[0m                                 Traceback (most recent call last)",
      "Cell \u001b[1;32mIn [2], line 1\u001b[0m\n\u001b[1;32m----> 1\u001b[0m \u001b[38;5;28;01mdel\u001b[39;00m \u001b[43md6\u001b[49m[\u001b[38;5;124m'\u001b[39m\u001b[38;5;124mnumber\u001b[39m\u001b[38;5;124m'\u001b[39m]\n",
      "\u001b[1;31mNameError\u001b[0m: name 'd6' is not defined"
     ]
    }
   ],
   "source": [
    "del d6['number']"
   ]
  },
  {
   "cell_type": "code",
   "execution_count": 3,
   "id": "5b69a0ff",
   "metadata": {},
   "outputs": [
    {
     "ename": "NameError",
     "evalue": "name 'd6' is not defined",
     "output_type": "error",
     "traceback": [
      "\u001b[1;31m---------------------------------------------------------------------------\u001b[0m",
      "\u001b[1;31mNameError\u001b[0m                                 Traceback (most recent call last)",
      "Cell \u001b[1;32mIn [3], line 1\u001b[0m\n\u001b[1;32m----> 1\u001b[0m \u001b[43md6\u001b[49m\n",
      "\u001b[1;31mNameError\u001b[0m: name 'd6' is not defined"
     ]
    }
   ],
   "source": [
    "d6"
   ]
  },
  {
   "cell_type": "code",
   "execution_count": 8,
   "id": "e1c4c91f",
   "metadata": {},
   "outputs": [
    {
     "data": {
      "text/plain": [
       "{'no': [12, 34, 54, 35, 65],\n",
       " 'assignment': (1, 2, 3, 4, 5, 6),\n",
       " 'launch_date': {12, 24, 28},\n",
       " 'class_time': {'web_dev': 8, 'data science': 12, 'java': 7}}"
      ]
     },
     "execution_count": 8,
     "metadata": {},
     "output_type": "execute_result"
    }
   ],
   "source": [
    "d6"
   ]
  },
  {
   "cell_type": "code",
   "execution_count": 5,
   "id": "58fb3efa",
   "metadata": {},
   "outputs": [
    {
     "ename": "SyntaxError",
     "evalue": "invalid syntax (1352567705.py, line 1)",
     "output_type": "error",
     "traceback": [
      "\u001b[1;36m  Cell \u001b[1;32mIn [5], line 1\u001b[1;36m\u001b[0m\n\u001b[1;33m    d6.values[]\u001b[0m\n\u001b[1;37m              ^\u001b[0m\n\u001b[1;31mSyntaxError\u001b[0m\u001b[1;31m:\u001b[0m invalid syntax\n"
     ]
    }
   ],
   "source": [
    "d6.values[]"
   ]
  },
  {
   "cell_type": "code",
   "execution_count": 9,
   "id": "cf52cc1c",
   "metadata": {},
   "outputs": [
    {
     "data": {
      "text/plain": [
       "dict_values([[12, 34, 54, 35, 65], (1, 2, 3, 4, 5, 6), {24, 28, 12}, {'web_dev': 8, 'data science': 12, 'java': 7}])"
      ]
     },
     "execution_count": 9,
     "metadata": {},
     "output_type": "execute_result"
    }
   ],
   "source": [
    "d6.values()"
   ]
  },
  {
   "cell_type": "code",
   "execution_count": 10,
   "id": "8c279a18",
   "metadata": {},
   "outputs": [
    {
     "ename": "TypeError",
     "evalue": "pop expected at least 1 argument, got 0",
     "output_type": "error",
     "traceback": [
      "\u001b[1;31m---------------------------------------------------------------------------\u001b[0m",
      "\u001b[1;31mTypeError\u001b[0m                                 Traceback (most recent call last)",
      "Cell \u001b[1;32mIn [10], line 1\u001b[0m\n\u001b[1;32m----> 1\u001b[0m \u001b[43md6\u001b[49m\u001b[38;5;241;43m.\u001b[39;49m\u001b[43mpop\u001b[49m\u001b[43m(\u001b[49m\u001b[43m)\u001b[49m\n",
      "\u001b[1;31mTypeError\u001b[0m: pop expected at least 1 argument, got 0"
     ]
    }
   ],
   "source": [
    "d6.pop()"
   ]
  },
  {
   "cell_type": "code",
   "execution_count": 11,
   "id": "98e9772c",
   "metadata": {},
   "outputs": [
    {
     "data": {
      "text/plain": [
       "(1, 2, 3, 4, 5, 6)"
      ]
     },
     "execution_count": 11,
     "metadata": {},
     "output_type": "execute_result"
    }
   ],
   "source": [
    "d6.pop('assignment')"
   ]
  },
  {
   "cell_type": "code",
   "execution_count": 12,
   "id": "7411bdd2",
   "metadata": {},
   "outputs": [
    {
     "data": {
      "text/plain": [
       "{'no': [12, 34, 54, 35, 65],\n",
       " 'launch_date': {12, 24, 28},\n",
       " 'class_time': {'web_dev': 8, 'data science': 12, 'java': 7}}"
      ]
     },
     "execution_count": 12,
     "metadata": {},
     "output_type": "execute_result"
    }
   ],
   "source": [
    "d6"
   ]
  },
  {
   "cell_type": "code",
   "execution_count": 13,
   "id": "947ecbfc",
   "metadata": {},
   "outputs": [
    {
     "ename": "NameError",
     "evalue": "name 'marks' is not defined",
     "output_type": "error",
     "traceback": [
      "\u001b[1;31m---------------------------------------------------------------------------\u001b[0m",
      "\u001b[1;31mNameError\u001b[0m                                 Traceback (most recent call last)",
      "Cell \u001b[1;32mIn [13], line 1\u001b[0m\n\u001b[1;32m----> 1\u001b[0m \u001b[38;5;28;01mif\u001b[39;00m \u001b[43mmarks\u001b[49m \u001b[38;5;241m>\u001b[39m\u001b[38;5;241m=\u001b[39m \u001b[38;5;241m80\u001b[39m :\n\u001b[0;32m      2\u001b[0m     \u001b[38;5;28mprint\u001b[39m(\u001b[38;5;124m\"\u001b[39m\u001b[38;5;124mou will be a part of a0 batch\u001b[39m\u001b[38;5;124m\"\u001b[39m)\n",
      "\u001b[1;31mNameError\u001b[0m: name 'marks' is not defined"
     ]
    }
   ],
   "source": [
    "if marks >= 80 :\n",
    "    print(\"ou will be a part of a0 batch\")\n",
    "    "
   ]
  },
  {
   "cell_type": "code",
   "execution_count": null,
   "id": "73b9e844",
   "metadata": {},
   "outputs": [],
   "source": []
  }
 ],
 "metadata": {
  "kernelspec": {
   "display_name": "Python 3 (ipykernel)",
   "language": "python",
   "name": "python3"
  },
  "language_info": {
   "codemirror_mode": {
    "name": "ipython",
    "version": 3
   },
   "file_extension": ".py",
   "mimetype": "text/x-python",
   "name": "python",
   "nbconvert_exporter": "python",
   "pygments_lexer": "ipython3",
   "version": "3.10.8"
  }
 },
 "nbformat": 4,
 "nbformat_minor": 5
}
